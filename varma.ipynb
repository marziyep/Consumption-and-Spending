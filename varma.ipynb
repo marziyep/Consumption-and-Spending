{
 "cells": [
  {
   "cell_type": "code",
   "execution_count": 1,
   "id": "1cb3bd9d",
   "metadata": {},
   "outputs": [],
   "source": [
    "import numpy as np\n",
    "import pandas as pd\n",
    "import matplotlib.pyplot as plt"
    "import warnings"
    "warnings.filterwarnings('ignore')"
   ]
  },
  {
   "cell_type": "code",
   "execution_count": 2,
   "id": "1489d950",
   "metadata": {},
   "outputs": [],
   "source": [
    "df1=pd.read_csv(\"M2SLMoneyStock.csv\",index_col=\"Date\",parse_dates=True)"
   ]
  },
  {
   "cell_type": "code",
   "execution_count": 3,
   "id": "35c3ebf4",
   "metadata": {},
   "outputs": [],
   "source": [
    "df2=pd.read_csv(\"PCEPersonalSpending.csv\",index_col=\"Date\",parse_dates=True)"
   ]
  },
  {
   "cell_type": "code",
   "execution_count": 4,
   "id": "e8a77229",
   "metadata": {},
   "outputs": [],
   "source": [
    "df1.index.freq=\"MS\"\n",
    "df2.index.freq=\"MS\""
   ]
  },
  {
   "cell_type": "code",
   "execution_count": 5,
   "id": "c7394580",
   "metadata": {},
   "outputs": [],
   "source": [
    "df=df1.merge(df2,how=\"left\",left_index=True,right_index=True)"
   ]
  },
  {
   "cell_type": "code",
   "execution_count": 6,
   "id": "c2008fa8",
   "metadata": {},
   "outputs": [
    {
     "data": {
      "text/html": [
       "<div>\n",
       "<style scoped>\n",
       "    .dataframe tbody tr th:only-of-type {\n",
       "        vertical-align: middle;\n",
       "    }\n",
       "\n",
       "    .dataframe tbody tr th {\n",
       "        vertical-align: top;\n",
       "    }\n",
       "\n",
       "    .dataframe thead th {\n",
       "        text-align: right;\n",
       "    }\n",
       "</style>\n",
       "<table border=\"1\" class=\"dataframe\">\n",
       "  <thead>\n",
       "    <tr style=\"text-align: right;\">\n",
       "      <th></th>\n",
       "      <th>Money</th>\n",
       "      <th>Spending</th>\n",
       "    </tr>\n",
       "    <tr>\n",
       "      <th>Date</th>\n",
       "      <th></th>\n",
       "      <th></th>\n",
       "    </tr>\n",
       "  </thead>\n",
       "  <tbody>\n",
       "    <tr>\n",
       "      <th>1995-01-01</th>\n",
       "      <td>3492.4</td>\n",
       "      <td>4851.2</td>\n",
       "    </tr>\n",
       "    <tr>\n",
       "      <th>1995-02-01</th>\n",
       "      <td>3489.9</td>\n",
       "      <td>4850.8</td>\n",
       "    </tr>\n",
       "    <tr>\n",
       "      <th>1995-03-01</th>\n",
       "      <td>3491.1</td>\n",
       "      <td>4885.4</td>\n",
       "    </tr>\n",
       "    <tr>\n",
       "      <th>1995-04-01</th>\n",
       "      <td>3499.2</td>\n",
       "      <td>4890.2</td>\n",
       "    </tr>\n",
       "    <tr>\n",
       "      <th>1995-05-01</th>\n",
       "      <td>3524.2</td>\n",
       "      <td>4933.1</td>\n",
       "    </tr>\n",
       "  </tbody>\n",
       "</table>\n",
       "</div>"
      ],
      "text/plain": [
       "             Money  Spending\n",
       "Date                        \n",
       "1995-01-01  3492.4    4851.2\n",
       "1995-02-01  3489.9    4850.8\n",
       "1995-03-01  3491.1    4885.4\n",
       "1995-04-01  3499.2    4890.2\n",
       "1995-05-01  3524.2    4933.1"
      ]
     },
     "execution_count": 6,
     "metadata": {},
     "output_type": "execute_result"
    }
   ],
   "source": [
    "df.head()"
   ]
  },
  {
   "cell_type": "code",
   "execution_count": 7,
   "id": "c308652d",
   "metadata": {},
   "outputs": [
    {
     "data": {
      "image/png": "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\n",
      "text/plain": [
       "<Figure size 432x288 with 1 Axes>"
      ]
     },
     "metadata": {
      "needs_background": "light"
     },
     "output_type": "display_data"
    }
   ],
   "source": [
    "df.plot()\n",
    "plt.show()"
   ]
  },
  {
   "cell_type": "code",
   "execution_count": 8,
   "id": "0aa56f94",
   "metadata": {},
   "outputs": [
    {
     "data": {
      "text/html": [
       "<div>\n",
       "<style scoped>\n",
       "    .dataframe tbody tr th:only-of-type {\n",
       "        vertical-align: middle;\n",
       "    }\n",
       "\n",
       "    .dataframe tbody tr th {\n",
       "        vertical-align: top;\n",
       "    }\n",
       "\n",
       "    .dataframe thead th {\n",
       "        text-align: right;\n",
       "    }\n",
       "</style>\n",
       "<table border=\"1\" class=\"dataframe\">\n",
       "  <thead>\n",
       "    <tr style=\"text-align: right;\">\n",
       "      <th></th>\n",
       "      <th>Money</th>\n",
       "      <th>Spending</th>\n",
       "    </tr>\n",
       "  </thead>\n",
       "  <tbody>\n",
       "    <tr>\n",
       "      <th>Money</th>\n",
       "      <td>1.000000</td>\n",
       "      <td>0.978462</td>\n",
       "    </tr>\n",
       "    <tr>\n",
       "      <th>Spending</th>\n",
       "      <td>0.978462</td>\n",
       "      <td>1.000000</td>\n",
       "    </tr>\n",
       "  </tbody>\n",
       "</table>\n",
       "</div>"
      ],
      "text/plain": [
       "             Money  Spending\n",
       "Money     1.000000  0.978462\n",
       "Spending  0.978462  1.000000"
      ]
     },
     "execution_count": 8,
     "metadata": {},
     "output_type": "execute_result"
    }
   ],
   "source": [
    "df.corr()"
   ]
  },
  {
   "cell_type": "code",
   "execution_count": 9,
   "id": "52078aa2",
   "metadata": {},
   "outputs": [],
   "source": [
    "from statsmodels.tsa.stattools  import adfuller"
   ]
  },
  {
   "cell_type": "code",
   "execution_count": 10,
   "id": "510d1bc0",
   "metadata": {},
   "outputs": [
    {
     "data": {
      "text/plain": [
       "(4.239022425670653,\n",
       " 1.0,\n",
       " 4,\n",
       " 247,\n",
       " {'1%': -3.457105309726321,\n",
       "  '5%': -2.873313676101283,\n",
       "  '10%': -2.5730443824681606},\n",
       " 2219.917877142354)"
      ]
     },
     "execution_count": 10,
     "metadata": {},
     "output_type": "execute_result"
    }
   ],
   "source": [
    "adfuller(df[\"Money\"])\n",
    "#p-value=1,fail to reject null hypothesis,non stationary"
   ]
  },
  {
   "cell_type": "code",
   "execution_count": 11,
   "id": "3c0fc18d",
   "metadata": {},
   "outputs": [
    {
     "data": {
      "text/plain": [
       "(0.14979608598625557,\n",
       " 0.9693009944428312,\n",
       " 3,\n",
       " 248,\n",
       " {'1%': -3.4569962781990573,\n",
       "  '5%': -2.8732659015936024,\n",
       "  '10%': -2.573018897632674},\n",
       " 2339.735574840993)"
      ]
     },
     "execution_count": 11,
     "metadata": {},
     "output_type": "execute_result"
    }
   ],
   "source": [
    "adfuller(df[\"Spending\"])\n",
    "#p-value=1,fail to reject null hypothesis,non stationary"
   ]
  },
  {
   "cell_type": "code",
   "execution_count": 12,
   "id": "5a0e9f6c",
   "metadata": {},
   "outputs": [],
   "source": [
    "df_transformed=df.diff().dropna()"
   ]
  },
  {
   "cell_type": "code",
   "execution_count": 13,
   "id": "9da4e5eb",
   "metadata": {},
   "outputs": [
    {
     "data": {
      "text/plain": [
       "(-2.0574040497379387,\n",
       " 0.26198379785112474,\n",
       " 15,\n",
       " 235,\n",
       " {'1%': -3.4584868856997004,\n",
       "  '5%': -2.873918902362675,\n",
       "  '10%': -2.573367247623359},\n",
       " 2222.948346069441)"
      ]
     },
     "execution_count": 13,
     "metadata": {},
     "output_type": "execute_result"
    }
   ],
   "source": [
    "adfuller(df_transformed[\"Money\"])\n",
    "#p-value=0.26198379785112474,fail to reject null hypothesis,non stationary"
   ]
  },
  {
   "cell_type": "code",
   "execution_count": 14,
   "id": "fbef0aaa",
   "metadata": {},
   "outputs": [
    {
     "data": {
      "text/plain": [
       "(-7.226973930850651,\n",
       " 2.0410272592129196e-10,\n",
       " 2,\n",
       " 248,\n",
       " {'1%': -3.4569962781990573,\n",
       "  '5%': -2.8732659015936024,\n",
       "  '10%': -2.573018897632674},\n",
       " 2328.23145843905)"
      ]
     },
     "execution_count": 14,
     "metadata": {},
     "output_type": "execute_result"
    }
   ],
   "source": [
    "adfuller(df_transformed[\"Spending\"])\n",
    "#p-value=2.0410272592129196e-10,reject null hypothesis,stationary"
   ]
  },
  {
   "cell_type": "code",
   "execution_count": 15,
   "id": "b2026938",
   "metadata": {},
   "outputs": [],
   "source": [
    "df_transformed=df_transformed.diff().dropna()"
   ]
  },
  {
   "cell_type": "code",
   "execution_count": 16,
   "id": "3db7d873",
   "metadata": {},
   "outputs": [
    {
     "data": {
      "text/plain": [
       "(-7.077470794343024,\n",
       " 4.76067493129594e-10,\n",
       " 14,\n",
       " 235,\n",
       " {'1%': -3.4584868856997004,\n",
       "  '5%': -2.873918902362675,\n",
       "  '10%': -2.573367247623359},\n",
       " 2217.0972028268266)"
      ]
     },
     "execution_count": 16,
     "metadata": {},
     "output_type": "execute_result"
    }
   ],
   "source": [
    "adfuller(df_transformed[\"Money\"])\n",
    "#p-value=4.76067493129594e-10,reject null hypothesis,stationary"
   ]
  },
  {
   "cell_type": "code",
   "execution_count": 17,
   "id": "d27ebf90",
   "metadata": {},
   "outputs": [
    {
     "data": {
      "text/plain": [
       "(-8.76014542633771,\n",
       " 2.68789996798731e-14,\n",
       " 8,\n",
       " 241,\n",
       " {'1%': -3.4577787098622674,\n",
       "  '5%': -2.873608704758507,\n",
       "  '10%': -2.573201765981991},\n",
       " 2339.3283710766104)"
      ]
     },
     "execution_count": 17,
     "metadata": {},
     "output_type": "execute_result"
    }
   ],
   "source": [
    "adfuller(df_transformed[\"Spending\"])\n",
    "#p-value= 2.68789996798731e-14,reject null hypothesis,stationary"
   ]
  },
  {
   "cell_type": "code",
   "execution_count": 18,
   "id": "86402792",
   "metadata": {},
   "outputs": [],
   "source": [
    "train=df_transformed.iloc[:-12]\n",
    "test=df_transformed.iloc[-12:]"
   ]
  },
  {
   "cell_type": "markdown",
   "id": "c6b07e63",
   "metadata": {},
   "source": [
    "VAR:"
   ]
  },
  {
   "cell_type": "code",
   "execution_count": 19,
   "id": "02e94cc9",
   "metadata": {},
   "outputs": [],
   "source": [
    "from statsmodels.tsa.vector_ar.var_model import VAR"
   ]
  },
  {
   "cell_type": "code",
   "execution_count": 20,
   "id": "1050e83e",
   "metadata": {},
   "outputs": [],
   "source": [
    "model=VAR(train)"
   ]
  },
  {
   "cell_type": "code",
   "execution_count": 21,
   "id": "3a0e7360",
   "metadata": {},
   "outputs": [
    {
     "name": "stdout",
     "output_type": "stream",
     "text": [
      "ORDER:0______________________AIC:14.74710921809045\n",
      "\n",
      "\n",
      "ORDER:1______________________AIC:14.178610495220896\n",
      "\n",
      "\n",
      "ORDER:2______________________AIC:13.955189367163703\n",
      "\n",
      "\n",
      "ORDER:3______________________AIC:13.849518291541038\n",
      "\n",
      "\n",
      "ORDER:4______________________AIC:13.827950574458281\n",
      "\n",
      "\n",
      "ORDER:5______________________AIC:13.78730034460964\n",
      "\n",
      "\n",
      "ORDER:6______________________AIC:13.799076756885809\n",
      "\n",
      "\n",
      "ORDER:7______________________AIC:13.797638727913972\n",
      "\n",
      "\n"
     ]
    }
   ],
   "source": [
    "for p in range(8):\n",
    "    result=model.fit(p)\n",
    "    print(f\"ORDER:{p}______________________AIC:{result.aic}\")\n",
    "    print(\"\\n\")"
   ]
  },
  {
   "cell_type": "code",
   "execution_count": 22,
   "id": "6335e83f",
   "metadata": {},
   "outputs": [],
   "source": [
    "result=model.fit(5)"
   ]
  },
  {
   "cell_type": "code",
   "execution_count": 23,
   "id": "ae6513d3",
   "metadata": {},
   "outputs": [
    {
     "data": {
      "text/plain": [
       "  Summary of Regression Results   \n",
       "==================================\n",
       "Model:                         VAR\n",
       "Method:                        OLS\n",
       "Date:           Thu, 22, Dec, 2022\n",
       "Time:                     22:36:03\n",
       "--------------------------------------------------------------------\n",
       "No. of Equations:         2.00000    BIC:                    14.1131\n",
       "Nobs:                     233.000    HQIC:                   13.9187\n",
       "Log likelihood:          -2245.45    FPE:                    972321.\n",
       "AIC:                      13.7873    Det(Omega_mle):         886628.\n",
       "--------------------------------------------------------------------\n",
       "Results for equation Money\n",
       "==============================================================================\n",
       "                 coefficient       std. error           t-stat            prob\n",
       "------------------------------------------------------------------------------\n",
       "const               0.516683         1.782238            0.290           0.772\n",
       "L1.Money           -0.646232         0.068177           -9.479           0.000\n",
       "L1.Spending        -0.107411         0.051388           -2.090           0.037\n",
       "L2.Money           -0.497482         0.077749           -6.399           0.000\n",
       "L2.Spending        -0.192202         0.068613           -2.801           0.005\n",
       "L3.Money           -0.234442         0.081004           -2.894           0.004\n",
       "L3.Spending        -0.178099         0.074288           -2.397           0.017\n",
       "L4.Money           -0.295531         0.075294           -3.925           0.000\n",
       "L4.Spending        -0.035564         0.069664           -0.511           0.610\n",
       "L5.Money           -0.162399         0.066700           -2.435           0.015\n",
       "L5.Spending        -0.058449         0.051357           -1.138           0.255\n",
       "==============================================================================\n",
       "\n",
       "Results for equation Spending\n",
       "==============================================================================\n",
       "                 coefficient       std. error           t-stat            prob\n",
       "------------------------------------------------------------------------------\n",
       "const               0.203469         2.355446            0.086           0.931\n",
       "L1.Money            0.188105         0.090104            2.088           0.037\n",
       "L1.Spending        -0.878970         0.067916          -12.942           0.000\n",
       "L2.Money            0.053017         0.102755            0.516           0.606\n",
       "L2.Spending        -0.625313         0.090681           -6.896           0.000\n",
       "L3.Money           -0.022172         0.107057           -0.207           0.836\n",
       "L3.Spending        -0.389041         0.098180           -3.963           0.000\n",
       "L4.Money           -0.170456         0.099510           -1.713           0.087\n",
       "L4.Spending        -0.245435         0.092069           -2.666           0.008\n",
       "L5.Money           -0.083165         0.088153           -0.943           0.345\n",
       "L5.Spending        -0.181699         0.067874           -2.677           0.007\n",
       "==============================================================================\n",
       "\n",
       "Correlation matrix of residuals\n",
       "               Money  Spending\n",
       "Money       1.000000 -0.267934\n",
       "Spending   -0.267934  1.000000\n",
       "\n"
      ]
     },
     "execution_count": 23,
     "metadata": {},
     "output_type": "execute_result"
    }
   ],
   "source": [
    "result.summary()"
   ]
  },
  {
   "cell_type": "code",
   "execution_count": 24,
   "id": "f141ec94",
   "metadata": {},
   "outputs": [],
   "source": [
    "lagged_values=train.values[-5:]"
   ]
  },
  {
   "cell_type": "code",
   "execution_count": 25,
   "id": "d336b2a5",
   "metadata": {},
   "outputs": [],
   "source": [
    "forecasted_values=result.forecast(lagged_values,12)"
   ]
  },
  {
   "cell_type": "code",
   "execution_count": 26,
   "id": "42c54f71",
   "metadata": {},
   "outputs": [
    {
     "data": {
      "text/plain": [
       "DatetimeIndex(['2015-01-01', '2015-02-01', '2015-03-01', '2015-04-01',\n",
       "               '2015-05-01', '2015-06-01', '2015-07-01', '2015-08-01',\n",
       "               '2015-09-01', '2015-10-01', '2015-11-01', '2015-12-01'],\n",
       "              dtype='datetime64[ns]', name='Date', freq='MS')"
      ]
     },
     "execution_count": 26,
     "metadata": {},
     "output_type": "execute_result"
    }
   ],
   "source": [
    "test.index"
   ]
  },
  {
   "cell_type": "code",
   "execution_count": 27,
   "id": "15f13858",
   "metadata": {},
   "outputs": [],
   "source": [
    "index=pd.date_range(start='2015-01-01',periods=12,freq=\"MS\")"
   ]
  },
  {
   "cell_type": "code",
   "execution_count": 28,
   "id": "3a0ad174",
   "metadata": {},
   "outputs": [],
   "source": [
    "df_forecast1=pd.DataFrame(index=index,data=forecasted_values,columns=[\"Money_2d\",\"Spending_2d\"])"
   ]
  },
  {
   "cell_type": "code",
   "execution_count": 29,
   "id": "bf54827f",
   "metadata": {},
   "outputs": [
    {
     "data": {
      "text/html": [
       "<div>\n",
       "<style scoped>\n",
       "    .dataframe tbody tr th:only-of-type {\n",
       "        vertical-align: middle;\n",
       "    }\n",
       "\n",
       "    .dataframe tbody tr th {\n",
       "        vertical-align: top;\n",
       "    }\n",
       "\n",
       "    .dataframe thead th {\n",
       "        text-align: right;\n",
       "    }\n",
       "</style>\n",
       "<table border=\"1\" class=\"dataframe\">\n",
       "  <thead>\n",
       "    <tr style=\"text-align: right;\">\n",
       "      <th></th>\n",
       "      <th>Money_2d</th>\n",
       "      <th>Spending_2d</th>\n",
       "    </tr>\n",
       "  </thead>\n",
       "  <tbody>\n",
       "    <tr>\n",
       "      <th>2015-01-01</th>\n",
       "      <td>-16.995276</td>\n",
       "      <td>36.149820</td>\n",
       "    </tr>\n",
       "    <tr>\n",
       "      <th>2015-02-01</th>\n",
       "      <td>-3.174038</td>\n",
       "      <td>-11.450298</td>\n",
       "    </tr>\n",
       "    <tr>\n",
       "      <th>2015-03-01</th>\n",
       "      <td>-0.377725</td>\n",
       "      <td>-6.684969</td>\n",
       "    </tr>\n",
       "    <tr>\n",
       "      <th>2015-04-01</th>\n",
       "      <td>-2.602233</td>\n",
       "      <td>5.479458</td>\n",
       "    </tr>\n",
       "    <tr>\n",
       "      <th>2015-05-01</th>\n",
       "      <td>4.228557</td>\n",
       "      <td>-2.443365</td>\n",
       "    </tr>\n",
       "    <tr>\n",
       "      <th>2015-06-01</th>\n",
       "      <td>1.559393</td>\n",
       "      <td>0.387639</td>\n",
       "    </tr>\n",
       "    <tr>\n",
       "      <th>2015-07-01</th>\n",
       "      <td>-0.998410</td>\n",
       "      <td>3.883680</td>\n",
       "    </tr>\n",
       "    <tr>\n",
       "      <th>2015-08-01</th>\n",
       "      <td>0.364510</td>\n",
       "      <td>-2.356101</td>\n",
       "    </tr>\n",
       "    <tr>\n",
       "      <th>2015-09-01</th>\n",
       "      <td>-1.210627</td>\n",
       "      <td>-1.224147</td>\n",
       "    </tr>\n",
       "    <tr>\n",
       "      <th>2015-10-01</th>\n",
       "      <td>0.225877</td>\n",
       "      <td>0.786927</td>\n",
       "    </tr>\n",
       "    <tr>\n",
       "      <th>2015-11-01</th>\n",
       "      <td>1.338939</td>\n",
       "      <td>0.180974</td>\n",
       "    </tr>\n",
       "    <tr>\n",
       "      <th>2015-12-01</th>\n",
       "      <td>-0.218585</td>\n",
       "      <td>0.212750</td>\n",
       "    </tr>\n",
       "  </tbody>\n",
       "</table>\n",
       "</div>"
      ],
      "text/plain": [
       "             Money_2d  Spending_2d\n",
       "2015-01-01 -16.995276    36.149820\n",
       "2015-02-01  -3.174038   -11.450298\n",
       "2015-03-01  -0.377725    -6.684969\n",
       "2015-04-01  -2.602233     5.479458\n",
       "2015-05-01   4.228557    -2.443365\n",
       "2015-06-01   1.559393     0.387639\n",
       "2015-07-01  -0.998410     3.883680\n",
       "2015-08-01   0.364510    -2.356101\n",
       "2015-09-01  -1.210627    -1.224147\n",
       "2015-10-01   0.225877     0.786927\n",
       "2015-11-01   1.338939     0.180974\n",
       "2015-12-01  -0.218585     0.212750"
      ]
     },
     "execution_count": 29,
     "metadata": {},
     "output_type": "execute_result"
    }
   ],
   "source": [
    "df_forecast1"
   ]
  },
  {
   "cell_type": "code",
   "execution_count": 30,
   "id": "0459832b",
   "metadata": {},
   "outputs": [],
   "source": [
    "step_one_money=(df[\"Money\"].iloc[-13]-df[\"Money\"].iloc[-14])+df_forecast1[\"Money_2d\"].cumsum()"
   ]
  },
  {
   "cell_type": "code",
   "execution_count": 31,
   "id": "f861cb30",
   "metadata": {},
   "outputs": [],
   "source": [
    "df_forecast1[\"Money_forecast\"]=df[\"Money\"].iloc[-13]+step_one_money.cumsum()"
   ]
  },
  {
   "cell_type": "code",
   "execution_count": 32,
   "id": "a9d1486c",
   "metadata": {},
   "outputs": [],
   "source": [
    "step_one_spending=(df[\"Spending\"].iloc[-13]-df[\"Spending\"].iloc[-14])+df_forecast1[\"Spending_2d\"].cumsum()"
   ]
  },
  {
   "cell_type": "code",
   "execution_count": 33,
   "id": "8418afc6",
   "metadata": {},
   "outputs": [],
   "source": [
    "df_forecast1[\"Spending_forecast\"]=df[\"Spending\"].iloc[-13]+step_one_spending.cumsum()"
   ]
  },
  {
   "cell_type": "code",
   "execution_count": 35,
   "id": "9a6d37fb",
   "metadata": {},
   "outputs": [
    {
     "data": {
      "text/html": [
       "<div>\n",
       "<style scoped>\n",
       "    .dataframe tbody tr th:only-of-type {\n",
       "        vertical-align: middle;\n",
       "    }\n",
       "\n",
       "    .dataframe tbody tr th {\n",
       "        vertical-align: top;\n",
       "    }\n",
       "\n",
       "    .dataframe thead th {\n",
       "        text-align: right;\n",
       "    }\n",
       "</style>\n",
       "<table border=\"1\" class=\"dataframe\">\n",
       "  <thead>\n",
       "    <tr style=\"text-align: right;\">\n",
       "      <th></th>\n",
       "      <th>Money_2d</th>\n",
       "      <th>Spending_2d</th>\n",
       "      <th>Money_forecast</th>\n",
       "      <th>Spending_forecast</th>\n",
       "    </tr>\n",
       "  </thead>\n",
       "  <tbody>\n",
       "    <tr>\n",
       "      <th>2015-01-01</th>\n",
       "      <td>-16.995276</td>\n",
       "      <td>36.149820</td>\n",
       "      <td>11731.704724</td>\n",
       "      <td>12108.749820</td>\n",
       "    </tr>\n",
       "    <tr>\n",
       "      <th>2015-02-01</th>\n",
       "      <td>-3.174038</td>\n",
       "      <td>-11.450298</td>\n",
       "      <td>11790.135410</td>\n",
       "      <td>12144.049342</td>\n",
       "    </tr>\n",
       "    <tr>\n",
       "      <th>2015-03-01</th>\n",
       "      <td>-0.377725</td>\n",
       "      <td>-6.684969</td>\n",
       "      <td>11848.188371</td>\n",
       "      <td>12172.663894</td>\n",
       "    </tr>\n",
       "    <tr>\n",
       "      <th>2015-04-01</th>\n",
       "      <td>-2.602233</td>\n",
       "      <td>5.479458</td>\n",
       "      <td>11903.639099</td>\n",
       "      <td>12206.757904</td>\n",
       "    </tr>\n",
       "    <tr>\n",
       "      <th>2015-05-01</th>\n",
       "      <td>4.228557</td>\n",
       "      <td>-2.443365</td>\n",
       "      <td>11963.318384</td>\n",
       "      <td>12238.408549</td>\n",
       "    </tr>\n",
       "    <tr>\n",
       "      <th>2015-06-01</th>\n",
       "      <td>1.559393</td>\n",
       "      <td>0.387639</td>\n",
       "      <td>12024.557062</td>\n",
       "      <td>12270.446833</td>\n",
       "    </tr>\n",
       "    <tr>\n",
       "      <th>2015-07-01</th>\n",
       "      <td>-0.998410</td>\n",
       "      <td>3.883680</td>\n",
       "      <td>12084.797331</td>\n",
       "      <td>12306.368797</td>\n",
       "    </tr>\n",
       "    <tr>\n",
       "      <th>2015-08-01</th>\n",
       "      <td>0.364510</td>\n",
       "      <td>-2.356101</td>\n",
       "      <td>12145.402109</td>\n",
       "      <td>12339.934659</td>\n",
       "    </tr>\n",
       "    <tr>\n",
       "      <th>2015-09-01</th>\n",
       "      <td>-1.210627</td>\n",
       "      <td>-1.224147</td>\n",
       "      <td>12204.796261</td>\n",
       "      <td>12372.276375</td>\n",
       "    </tr>\n",
       "    <tr>\n",
       "      <th>2015-10-01</th>\n",
       "      <td>0.225877</td>\n",
       "      <td>0.786927</td>\n",
       "      <td>12264.416289</td>\n",
       "      <td>12405.405019</td>\n",
       "    </tr>\n",
       "    <tr>\n",
       "      <th>2015-11-01</th>\n",
       "      <td>1.338939</td>\n",
       "      <td>0.180974</td>\n",
       "      <td>12325.375256</td>\n",
       "      <td>12438.714636</td>\n",
       "    </tr>\n",
       "    <tr>\n",
       "      <th>2015-12-01</th>\n",
       "      <td>-0.218585</td>\n",
       "      <td>0.212750</td>\n",
       "      <td>12386.115639</td>\n",
       "      <td>12472.237004</td>\n",
       "    </tr>\n",
       "  </tbody>\n",
       "</table>\n",
       "</div>"
      ],
      "text/plain": [
       "             Money_2d  Spending_2d  Money_forecast  Spending_forecast\n",
       "2015-01-01 -16.995276    36.149820    11731.704724       12108.749820\n",
       "2015-02-01  -3.174038   -11.450298    11790.135410       12144.049342\n",
       "2015-03-01  -0.377725    -6.684969    11848.188371       12172.663894\n",
       "2015-04-01  -2.602233     5.479458    11903.639099       12206.757904\n",
       "2015-05-01   4.228557    -2.443365    11963.318384       12238.408549\n",
       "2015-06-01   1.559393     0.387639    12024.557062       12270.446833\n",
       "2015-07-01  -0.998410     3.883680    12084.797331       12306.368797\n",
       "2015-08-01   0.364510    -2.356101    12145.402109       12339.934659\n",
       "2015-09-01  -1.210627    -1.224147    12204.796261       12372.276375\n",
       "2015-10-01   0.225877     0.786927    12264.416289       12405.405019\n",
       "2015-11-01   1.338939     0.180974    12325.375256       12438.714636\n",
       "2015-12-01  -0.218585     0.212750    12386.115639       12472.237004"
      ]
     },
     "execution_count": 35,
     "metadata": {},
     "output_type": "execute_result"
    }
   ],
   "source": [
    "df_forecast1"
   ]
  },
  {
   "cell_type": "code",
   "execution_count": 36,
   "id": "a6fc0336",
   "metadata": {},
   "outputs": [
    {
     "data": {
      "text/plain": [
       "<AxesSubplot:xlabel='Date'>"
      ]
     },
     "execution_count": 36,
     "metadata": {},
     "output_type": "execute_result"
    },
    {
     "data": {
      "image/png": "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\n",
      "text/plain": [
       "<Figure size 864x576 with 1 Axes>"
      ]
     },
     "metadata": {
      "needs_background": "light"
     },
     "output_type": "display_data"
    }
   ],
   "source": [
    "df[\"Money\"].iloc[-12:].plot(figsize=(12,8),legend=True)\n",
    "df_forecast1[\"Money_forecast\"].plot(legend=True)"
   ]
  },
  {
   "cell_type": "code",
   "execution_count": 37,
   "id": "b17b0dd2",
   "metadata": {},
   "outputs": [
    {
     "data": {
      "text/plain": [
       "<AxesSubplot:xlabel='Date'>"
      ]
     },
     "execution_count": 37,
     "metadata": {},
     "output_type": "execute_result"
    },
    {
     "data": {
      "image/png": "iVBORw0KGgoAAAANSUhEUgAAAtwAAAHrCAYAAAD8PkrhAAAAOXRFWHRTb2Z0d2FyZQBNYXRwbG90bGliIHZlcnNpb24zLjQuMywgaHR0cHM6Ly9tYXRwbG90bGliLm9yZy/MnkTPAAAACXBIWXMAAAsTAAALEwEAmpwYAABt6UlEQVR4nO3dd3RU1d7G8e9OJ6ETegu999CULiIKKiiK2ECv9Xrt+tr7tWNDbCgi2LAjoijF0HtvIfReQyANUme/f5xBkUsNk5zM5PmsxcrMmTP7/A6TzDzZ2WdvY61FRERERETyR5DbBYiIiIiIBDIFbhERERGRfKTALSIiIiKSjxS4RURERETykQK3iIiIiEg+CnG7gLyKjo62MTExbpchIiIiIgFu8eLFidba8nl9vt8G7piYGBYtWuR2GSIiIiIS4IwxW8/l+RpSIiIiIiKSjxS4RURERETykQK3iIiIiEg+8tsx3CeSnZ3Njh07yMjIcLsUKWARERFUq1aN0NBQt0sRERER+YeACtw7duygRIkSxMTEYIxxuxwpINZaDhw4wI4dO6hVq5bb5YiIiIj8Q0ANKcnIyKBcuXIK20WMMYZy5crpLxsiIiJSKAVU4AYUtosove4iIiJSWAVc4BYRERERKUwUuPPBiy++SJMmTWjevDktW7Zk/vz5+XasZ599lqFDhwLw9NNPM2XKlHw7loiIiIicvYC6aLIwmDt3LhMmTGDJkiWEh4eTmJhIVlZWgRz7+eefL5DjiIiIiMiZUw+3j+3evZvo6GjCw8MBiI6OpkqVKsTExPDII4/Qrl072rVrx4YNGwDYv38/V155JW3btqVt27bMnj0bcHqub775Zrp160bt2rUZNmzYX8d48cUXadCgAT179iQhIeGv7UOGDOH7778HICYmhmeeeYbWrVvTrFkz1q5d+9fxLrzwQlq3bs3tt99OzZo1SUxMLJD/GxEREZGiKGB7uJ/7ZTVrdqX4tM3GVUryzKVNTrlPr169eP7556lfvz49e/Zk4MCBdO3aFYCSJUuyYMECxowZw3333ceECRO49957uf/+++nUqRPbtm3joosuIj4+HoC1a9cSFxdHamoqDRo04M4772TFihWMHTuWpUuXkpOTQ+vWrWnTps0Ja4mOjmbJkiW8//77DB06lE8++YTnnnuOHj168Nhjj/H7778zYsQIn/4fiYiIiMg/BWzgdkvx4sVZvHgxM2fOJC4ujoEDB/LKK68AMGjQoL++3n///QBMmTKFNWvW/PX8lJQUUlNTAejTpw/h4eGEh4dToUIF9u7dy8yZM+nfvz+RkZEAXHbZZSet5YorrgCgTZs2/PjjjwDMmjWLn376CYDevXtTpkwZX56+iIiIiBwnYAP36Xqi81NwcDDdunWjW7duNGvWjNGjRwP/nLru6G2Px8PcuXMpVqzY/7RzdFjK0TZzcnL+p51TOfr8Y59rrc3DGYmIiIhIXmkMt48lJCSwfv36v+4vW7aMmjVrAvDNN9/89bVjx46AMwRl+PDh/9j/VLp06cJPP/3EkSNHSE1N5Zdffjmr+jp16sS3334LwKRJkzh48OBZPV9EREREzk7A9nC7JS0tjbvvvptDhw4REhJC3bp1GTFiBBMmTCAzM5P27dvj8Xj4+uuvARg2bBh33XUXzZs3Jycnhy5duvDhhx+etP3WrVszcOBAWrZsSc2aNencufNZ1ffMM88waNAgvvnmG7p27UrlypUpUaLEOZ2ziIiIiJyc8dchBrGxsXbRokX/2BYfH0+jRo1cqujUYmJiWLRoEdHR0a7WkZmZSXBwMCEhIcydO5c777zztL3q/qIwv/4iIiLiv4wxi621sXl9vnq4i5ht27Zx9dVX4/F4CAsL4+OPP3a7JBEREZHCaV88THv5nJtR4C4gW7ZscbsEAOrVq8fSpUvdLkNERESk8EpcD9NegVU/QFjxc25OF02KiIiIiAAkbYKf7oD32kHCb9DpPrhvxTk3qx5uERERESnaDm2DGa/D0i8hOBTb4d9saXArU7d7iPtq3Tk3r8AtIiIiIkVTyi6YMRSWjMEaw8661/JV+AB+We5he9xqAOpXPPchJQrcIiIiIlK0pO6FWW9hF32Kx5PL9KjePHeoN1tXlqVYaAbn1y3H7V3q0K1BeaqVicQ8cG6HU+AWERERkSIhM3kv+/94nYprxxDkyeb7nC68m9uf0KgYerQvT/cGFWhXqywRocE+Pa4Cdz548cUX+eqrrwgODiYoKIiPPvqI9u3b58uxnn32WYoXL85DDz3E008/TZcuXejZs6fP2h82bBgffPABrVu35ssvv/RZu3k1btw46tevT+PGjd0uRURERPzA7uQjzFm5gWKL3qfbwR+oTBa/2E7MrHIzTZu14vMGFagVHZWvNShw+9jcuXOZMGECS5YsITw8nMTERLKysgrk2M8//7zP23z//feZOHEitWrVOqP9c3JyCAnJv2+rcePG0bdvXwVuEREROaGcXA9Lth0iLmEf8+M30+XAt9wcPJGS5ggrylxAWocH6dW6Pf3CCi4GB27gnvgo7Fnp2zYrNYOLXznlLrt37yY6Oprw8HCAv1aWjImJYeDAgcTFxQHw1VdfUbduXfbv388dd9zBtm3bAHj77bc5//zzefbZZ9m2bRubNm1i27Zt3Hfffdxzzz2A04M+ZswYqlevTvny5WnTpg0AQ4YMoW/fvgwYMICYmBgGDx7ML7/8QnZ2Nt999x0NGzZk//79XHvttRw4cIC2bdvy+++/s3jx4hOugHnHHXewadMmLrvsMm6++WYGDx7MzTffzKZNm4iMjGTEiBE0b96cZ599ll27drFlyxaio6N55513TnhOR5e9X7RoEcYYnnnmGa688kruvPNOFi5cyJEjRxgwYADPPfccAI8++ijjx48nJCSEXr16ccUVVzB+/HimT5/Of//7X3744Qfq1Klzrq+qiIiI+LnEtEymJ+wnLmEfM9btJycjjZtD/mBM6K8UD0kjtVZv7EVP0bxSU1fqC9zA7ZJevXrx/PPPU79+fXr27MnAgQPp2rUrACVLlmTBggWMGTOG++67jwkTJnDvvfdy//3306lTJ7Zt28ZFF11EfHw8AGvXriUuLo7U1FQaNGjAnXfeyYoVKxg7dixLly4lJyeH1q1b/xW4jxcdHc2SJUt4//33GTp0KJ988gnPPfccPXr04LHHHuP3339nxIgRJz2XDz/8kN9//524uDiio6O5++67adWqFePGjePPP//kxhtv/GtZ+MWLFzNr1iyKFSvGtddee8JzeuGFFyhVqhQrVzq/CB08eBBwfoEoW7Ysubm5XHDBBaxYsYJq1arx008/sXbtWowxHDp0iNKlS3PZZZf99UuFiIiIFE0ej2XFzmTi1u5jWsI+VuxMxlqoVhxeqjiTCw+OJTzrINTrDd0eo0SVlq7WG7iB+zQ90fmlePHiLF68mJkzZxIXF8fAgQN55RWnlkGDBv319f777wdgypQprFmz5q/np6SkkJqaCkCfPn0IDw8nPDycChUqsHfvXmbOnEn//v2JjIwE4LLLLjtpLVdccQUAbdq04ccffwRg1qxZ/PTTTwD07t2bMmXKnPG5zZo1ix9++AGAHj16cODAAZKTk/+qo1ixYqc8pylTpjB27Ni/th899rfffsuIESPIyclh9+7drFmzhsaNGxMREcEtt9xCnz596Nu37xnXKSIiIoEn+XA2M9bvJ27tPqav28+B9CyMgVbVS/Nwj5r090yi0ooPMHv3QZ0LoPvjUC3W7bKBQA7cLgoODqZbt25069aNZs2aMXr0aACMMX/tc/S2x+Nh7ty5f4XVYx0dlnK0zZycnP9p51SOPv/Y51pr83BGnPS5R2uJivr7YoOTnZO19n9q37x5M0OHDmXhwoWUKVOGIUOGkJGRQUhICAsWLGDq1KmMHTuW4cOH8+eff+a5dhEREfEv1lrid6cSl+D0Yi/eehCPhdKRoXSt78wo0qV2ScomjIWZb0DqbojpDFePgZod3S7/H7S0u48lJCSwfv36v+4vW7aMmjVrAvDNN9/89bVjR+cboVevXgwfPvwf+59Kly5d+Omnnzhy5Aipqan88ssvZ1Vfp06d+PbbbwGYNGnSX8M6zkSXLl3+mqlk2rRpREdHU7Jkyf/Z72TndPz2gwcPkpKSQlRUFKVKlWLv3r1MnDgRgLS0NJKTk7nkkkt4++23/2qjRIkSf/0FQERERAJLWmYOf6zew6M/rKDjy39yybCZvP5HAkeyc7mre11+uPM8Fj95Ie9c1ZR+nimU/bQj/PYQlK4Jg3+BIRMKXdgG9XD73NELAw8dOkRISAh169ZlxIgRTJgwgczMTNq3b4/H4+Hrr78GnGn37rrrLpo3b05OTg5dunThww8/PGn7rVu3ZuDAgbRs2ZKaNWvSuXPns6rvmWeeYdCgQXzzzTd07dqVypUrU6JEiTN67rPPPstNN91E8+bNiYyM/Kvn/ngnO6cnn3ySu+66i6ZNmxIcHMwzzzzDFVdcQatWrWjSpAm1a9fm/PPPByA1NZXLL7+cjIwMrLW89dZbAFxzzTXceuutDBs2jO+//14XTYqIiPgxay0b96czLWEfcQn7WLA5iexcS4nwEDrXj6Zbgwp0q1+eCiUjnCfk5sCKsTD9FTi4Baq2gUvfgTo94AxHALjBnMsQAzfFxsbaRYsW/WNbfHw8jRo1cqmiU4uJiWHRokUnnA2kIGVmZhIcHExISAhz587lzjvvPG2vur8ozK+/iIiIOI5k5TJv0wHivCF7e9IRwFlCvXuDCnRrUIHYmDKEBh8zEMPjgdU/wrRX4MB6qNQcuj8B9S8qkKBtjFlsrc3zgHD1cBcx27Zt4+qrr8bj8RAWFsbHH3/sdkkiIiIS4LYnHSYuYR9/rt3H3I0HyMzxUCw0+H+WUP8fHg+s/QXiXob98VChMQz8Ahr2LdQ92sdT4C4gW7ZscbsEAOrVq8fSpUv/se3AgQNccMEF/7Pv1KlTKVeuXEGVJiIiIgEiK8fDwi1JxK11erE37k8HoGa5SAa1q0H3hhVof6ol1K2FhIkw7SVnXZXo+jDgU2jcH4L87xLEgAvcJ5oJQ06tXLlyfj+sxF+HRomIiASK3clHmJbgTNs3e0Mi6Vm5hAUH0b52Wa5rX5PuDc9gCXVrYcNUiHsRdi2BsrWh/whoNgCCThLO/UBABe6IiAgOHDhAuXLlFLqLEGstBw4cICIiwu1SREREioycXA9Ltx/y9mLvJ353CgBVSkXQr1VVujeowHl1yxF5JkuoWwubp0PcS7B9PpSqAZcNhxaDINj/46r/n8ExqlWrxo4dO9i/f7/bpUgBi4iIoFq1am6XISIiEtAOpGU6vdjeJdRTMnIIDjLE1izDoxc3pHuDCtSvWPzsOj63zoE/X4Sts6BkVej7FrS8HkLC8u9EClhABe7Q0FBq1arldhkiIiIiASUxLZMPpm3k83lbycrxEF08nIuaVKJ7wwqcXzeaUsVCz77R7QudoSOb4qB4Rbj4NWg9GEID7y/WARW4RURERMR3kg9nM2LmRkbN3kJGdi5XtK7G4I4xNKlSkqCgPA7f3bXUGTqyfhJERkOvFyH2Zgg7wSwlAUKBW0RERET+IS0zh1GzNjNi5iZSM3Lo27wy919Ynzrli+e90T2rnKCd8CsUKwMXPAPtboPwc2jTTyhwi4iIiAgAGdm5fDFvK+9P20hSehY9G1XkwV71aVS5ZN4b3bcWpr0Ma8ZBeCno9jh0uBMizqFNP6PALSIiIlLEZeV4+GbRdob/uZ69KZl0rhfNAxfWp1WNMnlvNHEDTH8VVn4HYVHQ5WHoeJfTu13EKHCLiIiIFFE5uR5+WrqTd6auZ8fBI8TWLMM717SiQ+1zWPju4BaY/hosHwsh4XD+vXDePRBVdBfTU+AWERERKWI8HsuvK3fz1pR1bNqfTrOqpfhvv6Z0rV8+72uZJO+AGa/D0i8gKATa3wGd7oPiFXxauz9S4BYREREpIqy1TInfxxuTEli7J5X6FYvz4fVtuKhJxbwH7ZTdMPMNWDLaud/mJuj8IJSs7LvC/ZwCt4iIiEiAs9Yye8MBhk5KYNn2Q9QsF8nbA1tyaYsqBOd1er+0fTDrbVg0Ejw50Op66PwQlK7u09oDgQK3iIiISABbtCWJ1/9IYP7mJKqUiuCVK5pxZZtqhAYH5a3B9AMw5x1Y8DHkZDjLr3d5GMpq8cGTUeAWERERCUArdyTzxuQEpiXsJ7p4OM9e2phB7WsQHhKctwaPHIS578G8DyArHZpdBV0fgei6vi08AClwi4iIiASQdXtTeXPSOn5fvYdSxUJ5pHdDBp9Xk8iwPMa+jGQnZM99DzJToHE/6PYYVGjo07oDmQK3iIiISADYkpjO21PW8fPyXUSFhXDvBfX4V+dalIwIzVuDmakw/0OY864TuhtdCl0fhUpNfVt4EaDALSIiIuLHdh46wrtT1/Pd4h2EBhtu61KbO7rUoUxUWN4azEyDhR/D7HecYSQNLoFuj0LlFr4tvAhR4BYRERHxQ/tSM3g/biNfzd8GwA0davLv7nWoUCIibw1mHXZmHJn1NhxOhHq9nKBdtY3vii6iFLhFRERE/Mihw1l8OH0To+dsISvXw1VtqnH3BfWoWrpY3hrMPgKLRsGstyB9H9TpAd0eh+ptfVt4EabALSIiIuIHUjOyGTlrMyNnbiYtK4fLWlThvp71qRUdlbcGczJh8Whn0Zq0PVCrC3QbAzU7+rZwUeAWERERKcyOZOUyeu4WPpy+kUOHs7moSUUeuLABDSqVyFuDOVmw9HMnaKfshBrnwZWfQK3Ovi1c/qLALSIiIlIIZebk8vX8bQyP20hiWiZd65fnwV71aV6tdN4azM2GZV/BjNcheTtUbw/93odaXSGvy7rLGVHgFhERESlEcnI9/LBkB8OmbmDnoSO0r1WWD65vTduYsnlrMDcHVnwD01+FQ1udiyAvfRvqXKCgXUAUuEVEREQKAY/H8suKXbw1eR1bDhymRfXSvHJlMzrVjcbkJRh7cmHl9zD9FUja5Ezrd8nrzuwjCtoFSoFbRERExEXWWv5YvZe3Jq8jYW8qDSuV4OMbY+nZqELeg/bqn2DaK3BgPVRsBtd85cynraDtCgVuERERERdYa5mxPpE3JiWwYkcytaOjeHdQK/o0q0xQUF6Ctgfif3aC9v61UKExXP05NOwLQUG+PwE5YwrcIiIiIgVs/qYDvDFpHQu2JFGtTDFeH9Cc/q2qEhKch2BsLaydAHEvw77VEN0ABoyCxv0UtAsJBW4RERGRArJs+yHemJTAzPWJVCgRzguXN2Fg2xqEheQxaK/7HeJegj0roFxduOITaHoFBAX7vnjJMwVuERERkXwWvzuFNyatY0r8XspGhfHEJY24oWNNIkLzEIythQ1TIO5F2LUUysRAvw+h2VUQrGhXGOlVEREREcknG/en8faU9UxYsYvi4SE8eGF9bupUi+LheYhg1sKmOKdHe8dCKF0DLhsOLa6B4FDfFy8+o8AtIiIi4mPbkw4zbOp6fliyg/CQYO7sWofbutSmdGRY3hrcPMMJ2tvmQslq0PdtaHkdhOSxPSlQCtwiIiIiPrI3JYPhf25g7MJtGGO46fxa3NmtDtHFw/PW4JbZMO1l2DITSlSGS4ZC6xshJI/tiSsUuEVERETOUVJ6Fh9O38joOVvI9Viubludu3vUpXKpYnlrcNt8mPYSbJoGxStC71ehzRAIjfBl2VJAFLhFRERE8ij5SDYjZ25i5KzNHMnOpV+rqtx3QX1qlIvMW4M7FjlDRzZOhajy0OtFiL0ZwvLYnhQKCtwiIiIiZ2lLYjo/Lt3J6DlbSD6STZ9mlbn/wnrUrVAibw3uWurMo73+DyhWFi58HtreAmFRvi1cXKHALSIiInIG9qdmMmHFLn5etotl2w8BcEHDCtx/YX2aVi2Vt0Z3r3BWhkz4FSJKwwVPQ7vbIDyPwV0KJQVuERERkZNIy8xh0uo9jFu2i9kbEsn1WBpVLsljFzfk0hZVqFI6j2O0965xLoaMHw/hpaD7E9D+dojIY3CXQk2BW0REROQY2bkeZqzbz7hlu5i8Zg8Z2R6qli7G7V1q069VVepXPIfe5/0JTo/26p8grDh0fQQ6/BuKlfZZ/VL4KHCLiIhIkefxWBZvO8jPy3by64rdHDycTenIUK5sXY1+rarSpkYZgoJM3g+QuAGmvworv4PQSOj8AHT8D0SW9d1JSKGlwC0iIiJF1rq9qYxbupOfl+1i56EjRIQGcWHjSvRrWYXO9coTFhJ0bgdI2gTTX4MV30BIBJx/D5x3D0RF++YExC8ocIuIiEiRsjv5COOX7WLcsl3E704hyECneuV5sFd9ejWplLdl1493cCvMeB2WfeUsu97h33D+vVC8wrm3LX5HgVtEREQCXvLhbCau2s24ZTuZvzkJa6FF9dI8c2lj+javQvkSPlq58dB2mDkUln4BJhja3Qqd7ocSlXzTvvglBW4REREJSBnZufy5dh/jlu5kWsJ+snI91I6O4r4L6nN5yyrERPtwjuuUXTDzDVg82rnfZgh0egBKVfXdMcRvKXCLiIhIwMj1WOZtOsC4pTv5fdUeUjNzKF8inOs71KRfqyo0q1oKY87h4sfjpe6BWW/BolFgc6HVDdD5QShd3XfHEL+nwC0iIiJ+zVrL6l0pjFu6k19W7GJvSibFw0O4qEkl+rWqwnl1ogk+lxlGTiRtH8x+BxZ+ArnZ0PJa6PIQlInx7XEkIChwi4iIiF/aduAw45bt5OdlO9m4P53QYEO3BhW4vGUVejaqSERosO8PmrYf5rwDCz6B3ExoPhC6PAzl6vj+WBIwFLhFRETEbxxIy2TCCufix6XbDgHQrlZZ/tWpNpc0q0TpyLD8OXD6AW/Q/hhyMqDZVdDl/yC6bv4cTwLKaQO3MeZToC+wz1rb1LvtdeBSIAvYCNxkrT10zHNqAGuAZ621Q73b2gCfAcWA34B7rbXWGBMOjAHaAAeAgdbaLT46PxEREfFz6Zk5TF6zl3HLdjJzvbO8esNKJXikd0Mua1mFqnldXv1MHE6COe/CghGQlQ7NBjhBu3z9/DumBJwz6eH+DBiOE4qPmgw8Zq3NMca8CjwGPHLM428BE49r5wPgNmAeTuDu7d3nX8BBa21dY8w1wKvAwLM/FREREQkU2bkeZq1PZNyynUxavZcj2blULV2M27rUpl/LqjSodA7Lq5+Jw0kw9z2Y/xFkpUGT/s4y7BUa5u9xJSCdNnBba2cYY2KO2zbpmLvzgAFH7xhj+gGbgPRjtlUGSlpr53rvjwH64QTuy4Fnvbt+Dww3xhhrrT3rsxERERG/Za1lybaDjFu6i19X7iYpPYvSkaH0b12Vfi2rElvzHJdXPxNHDsG892HeB5CZAo0vh66PQsXG+XtcCWi+GMN9M/ANgDEmCqen+0LgoWP2qQrsOOb+Du+2o49tB/D2mCcD5YDE4w9kjLkNp5ecGjVq+KB0ERERcduGfamMW7qLn5fvZHvSEcJDgujZuCL9Wlala30fLK9+JjKSnZA9933ITIZGlzpBu1LT/D+2BLxzCtzGmCeAHOBL76bngLestWnHzXF5ol9H7Rk89s+N1o4ARgDExsaqB1xERMRP7UnO4Jfluxi3bCerdznLq59fN5r7LqjPRU19tLz6mchIcYaNzH3XCd0N+zpDRyo3L5jjS5GQ5+9mY8xgnIspLzhm+Ed7YIAx5jWgNOAxxmQAPwDVjnl6NWCX9/YOoDqwwxgTApQCkvJal4iIiBROyUey+X3Vbn5etou5mw44y6tXK8XTfRvTt0VlKpSIKLhiMlO9QXs4HDkI9S+Gbo9ClZYFV4MUGXkK3MaY3jhDR7paaw8f3W6t7XzMPs8Cadba4d77qcaYDsB84EbgXe+u44HBwFycseB/avy2iIhIYMjIzmVawj7GLd3Fnwn7yMrxEFMuknt61OPyllWoXb54wRaUmebMODLnXTiSBPUucoJ21dYFW4cUKWcyLeDXQDcg2hizA3gGZ1aScGCyd+jIPGvtHadp6k7+nhZwIn/PYjIS+NwYswGnZ/uasz4LERGRQsTjsRxIzyI4yBASbAgNCiI4yBAabHy7rHgh5fFY5m0+wM9Ld/Hbqt2kZuQQXTyc69rX4PKWVWlRzcfLq5+JrHRnVcjZ78DhA1C3J3R7HKq1Kdg6pEgy/tqZHBsbaxctWuR2GSIiIv+waEsSz4xfzepdKSd8PDjIOOE7yBASHERosHM/JOjv26HBQYQEG4KDgrz7OY8f/fqP/f7ncW+7Qc7zQ4KdoH/s8/93v2OP+Xe7ocF//6IQ8tcvDf98fkiQczs4yLB6Vwrjl+9i/LJd7EnJICosmIuaVqJfy6qcV6ccIcEFcPHj8bIOw6JPYfbbkL4f6vSAbo9B9XYFX4v4LWPMYmttbF6fr5UmRUREfGBPcgavTIxn3LJdVC4VweOXNCQsOIgcj3X+5XrIzrXkeizZHg85uc425zFnW+7R27ke735/73M4K+evfXOOPv9oux5vu7mevx7PznWnQy002NC1fgWe6NOIno0qUiwsH5ZXPxPZR2DRKJj1FqTvg9rdnKBdo4M79UiRpsAtIiJyDjJzcvl01hbe/XM9OR7L3T3qcme3OkSGuf8RezSE5x4X6v8O5icI78f9UpDrDe9HQ3zuyX558FgqlYzg4qaVKBOVT8urn4nsDFgyGma+CWl7IKYzXD0aap7nXk1S5Ln/biAiIuKn4tbu4/kJa9icmM6FjSvyVJ/G1CgX6XZZf3GGr7jUw1zQcjJhyRgnaKfugprnw4CRENPJ7cpEFLhFRETO1pbEdF6YsIapa/dRu3wUn93Ulm4NKrhdVtGUkwVLP4eZb0DKTqjREfp/CLW6QBG4QFX8gwK3iIjIGUrPzOG9uA18MnMzocGGxy9pyJDzahXMSojyTzlZsOxLJ2gnb4fq7eHy95yx2graUsgocIuIiJyGtZbxy3fx8m9r2ZOSwRWtq/Jo74ZUKFmAC7WIIzcbln0FM4fCoW1QrS1c+o4z+4iCthRSCtwiIiKnsGZXCs+OX82CLUk0rVqS965rRZuaZd0uq+jJzYEVY2H6a3BoK1RpDX3edObTVtCWQk6BW0RE5AQOpmfx5uR1fDl/K6Ujw3j5imZcHVud4CCFuwKVmwMrv3WC9sHNULklXPI61OuloC1+Q4FbRETkGLkey9cLtjF0UgKpGTnc2DGG+3vWp1RkqNulFS2eXFj5PUx/FZI2QqXmcM3X0OBiBW3xOwrcIiIiXgu3JPHMz6tZszuFDrXL8uxlTWhYqaTbZRUtnlxY9aMTtA+sh4rNYOCX0LCPgrb4LQVuEREp8o5fJXL4ta3o06wyRgGv4Hg8sOYnmPYqJCZAhSZw9efQsC8EaRYY8W8K3CIiUmRl5uQyctZmhv+5odCtEllkeDwQ/7MTtPfHQ/lGcNVn0OhyBW0JGHpHERGRIqmwrxIZ8DweWDsBpr0C+1ZDdAMY8Ck07q+gLQFHgVtERIqULYnpPD9hDX96V4kcfXM7utYv73ZZRYe1sPZXJ2jvXQnl6sEVn0DTK6CoLEMvRY4Ct4iIFAnpmTkMj9vASK0S6Q5rIWEiTHsZ9qyAsnWg/whoNkBBWwKeAreIiAS0o6tEvvRbPHtTMrVKZEGzFtZPcoL2rqVQphb0+xCaXQXBiiFSNOg7XUREAtaxq0Q2q1qK969rQ5uaZdwuq2iwFjZMcYL2zsVQuiZc/h40v0ZBW4ocfceLiEjAOZiexRuTE/hq/jZKR4bxyhXNuEqrRBYMa2Hjn07Q3rEQStWAy96FFoMgWIsHSdGkwC0iIgEj12P5asE23tAqkQXPWtg0zQna2+dDqerQ921oeR2EhLldnYirFLhFRCQgLNicxDPjVxOvVSIL1tGgPf1V2DYXSlaFPm9CqxsUtEW8FLhFRMSv7UnO4OWJ8fy8bBdVSkXw3rWtuaRZJa0Smd+shQ1TnaC9Y4ETtC8ZCq1vhJBwt6sTKVQUuEVExC8dv0rkPT3qcodWicx/1sK6P5ygvWuJd+jIW96hIwraIieidyUREfE7f67dy/O/rGHLgcNaJbKgeDyQ8JsTtPescGYduexdZ9YRDR0ROSUFbhER8RubE9N5QatEFiyPB+LHw4zXYe8qKFsbLn8fml+tWUdEzpACt4iIFHrpmTm8++cGRs7aRHhIME9c0ojB58Volcj85MmFNeNg+uuwP95Zgr3/CGh6pebRFjlL+okREZFC6/hVIq9sXY1HejfQKpH5KTcHVv/o9GgnroPyDeHKkdCkv5ZgF8kjBW4RESmUVu9K5tnxq1m45aBWiSwIuTmw8luYMRSSNkKFJnDVaGh0GQTpLwki50KBW0REChWtElnAcrNh+ViYORQOboFKzWDgF9Cgj4K2iI8ocIuISKGQ67F8NX8rQyetIy1Tq0Tmu5wsWPYlzHoTDm2DKq2g9ytQvzdoDnMRn1LgFhER12mVyAKUkwlLxsCstyFlB1SNhUvegHoXKmiL5BMFbhERcc2e5Axe+i2e8cu1SmS+yz7yd9BO3QXV28Nlw6BODwVtkXymwC0iIgUuMyeXT2Zu5r04rRKZ77IOw+JRMPsdSNsLNc+H/h9CrS4K2iIFRO9sIiJSoKbG7+X5CWvYqlUi81dmGiwaCXPehfT9TsAe8CnEdHK7MpEiR4FbREQKxKb9abwwYQ1xCfu1SmR+ykiBhR/DnOFwJMkZMtLl/6BmR7crEymyFLhFRCRfHc7KYdhUrRKZ7zKSYf4ImDscMg5B3Quh6yNQva3blYkUeQrcIiKSb1btTOaer5eyKTFdq0TmlyMHYd6HMO8DyEyG+hdD14ehahu3KxMRLwVuERHxOY/H8smsTbz+RwLlosL56pb2nFc32u2yAsvhJJj7Hsz/CLJSoWFf6Pp/ULmF25WJyHEUuEVExKf2pWTw4HfLmbk+kYuaVOSVK5pTJirM7bICR3qiM2xkwceQlQ6NL4cuD0Olpm5XJiInocAtIiI+M2XNXv7vhxUczsrhpf7NGNSuuubU9pW0fTBnGCwc6cyp3fQKJ2hXaOR2ZSJyGgrcIiJyzjKyc3nx13g+n7eVxpVLMmxQK+pWKO52WYEhZbcTtBeNgtxMaHYVdH4Iytd3uzIROUMK3CIick7id6dw79ilrNubxq2da/HQRQ0IDwl2uyz/l7wTZr8Ni0eDJwdaXAOdH4RyddyuTETOkgK3iIjkibWWz+Zs4eWJaykZEcqYm9vRRfNqn7tD22HWW7D0c7AeaDEIOj8AZWu7XZmI5JECt4iInLXEtEwe/m45cQn76dGwAq8NaE508XC3y/JvB7fAzDdh2VfO/VbXQ6f7oUxNV8sSkXOnwC0iImdlWsI+HvpuBSkZ2Tx/eRNu6FBTF0aeiwMbnaC9/GsICoY2g52gXaqa25WJiI8ocIuIyBnJzMnl1YkJfDp7Mw0qluCLW9rRsFJJt8vyX4kbYOZQWPEtBIdCu1vh/HuhZBW3KxMRH1PgFhGR01q/N5V7xi4jfncKgzvW5LFLGhERqgsj82TfWidor/oBgsOhw51w3t1QopLblYlIPlHgFhGRk7LW8tWCbbwwYQ2RYSGMHBzLBY0qul2Wf9q7Gma8DqvHQWikE7I73g3FdaGpSKBT4BYRkRNKSs/ikR9WMHnNXjrXi+aNq1pQoWSE22X5n90rnKAdPx7Cijvjszv+B6LKuV2ZiBQQBW4REfkfszck8sC3y0hKz+LJPo24+fxaBAXpwsizsmspTH8dEn6F8JLQ5f+c4SORZd2uTEQKmAK3iIj8JSvHw5uT1/HRjI3Ujo5i5OC2NK1ayu2y/Mvu5RD3MqybCBGloNvj0P52KFba7cpExCUK3CIiAsCm/WncO3YZK3cmM6hdDZ7q24jIMH1MnLG9a2DaSxD/ixO0uz/hBO0I/cIiUtTpnVREpIiz1vLdoh08+8tqwkKC+PD6NvRuqhkzzljiepj2Mqz60Rmj3fUR6PBv9WiLyF8UuEVEirDkw9k8/tNKfl25m461y/HmwBZULlXM7bL8Q9ImmP4arPgGQiKg031w3j0aoy0i/0OBW0SkiFqwOYn7xi5lX2om/9e7Abd3qUOwLow8vUPbnFlHln7pLFjT4d9w/n2a3k9ETkqBW0SkiMnO9TBs6nrei9tAjbKR/HDnebSoXtrtsgq/lF0w8w1YPBqMgbb/gk4PQMnKblcmIoWcAreISBGy7cBh7v1mKUu3HWJAm2o8e1kTiofro+CUUvfC7Ldh4UiwudDqeujyMJSq5nZlIuIn9C4rIlJEjFu6kyfHrcIYeHdQKy5tUcXtkgq39ANO0F7wMeRmQYtB0PVhKBPjdmUi4mcUuEVEAlxqRjZP/7yan5buJLZmGd6+piXVykS6XVbhdeQgzBkO8z+ErHRodhV0exTK1XG7MhHxUwrcIiIBbPHWg9z3zVJ2Hcrg/p71uat7HUKCg9wuq3DKSIF5H8Dc9yAzGRr3g26PQYWGblcmIn5OgVtEJADleizvx23g7anrqVwqgm9v70Cbmpqu7oQy02DBCJgzzOndbtAHuj8GlZq5XZmIBAgFbhGRALPz0BHuH7uMBVuSuKxFFf7bvyklI0LdLqvwyT7iXAg56y04nAh1L4Tuj0PV1m5XJiIBRoFbRCSATFixi8d/XEmux/Lm1S3o36oqxmhu7X/IyXSm9pv5BqTtgVpdoceTUL2d25WJSIBS4BYRCQDpmTk8O3413y3eQcvqpXnnmpbULBfldlmFS242LP0CZgyFlB1Q4zwYMBJiOrldmYgEOAVuERE/t2LHIe4du4wtB9L5T/e63NuzHqG6MPJvuTnO8uvTX4VDW6FqLFz+LtTu7ixgIyKSzxS4RUT8lMdjGTFzE0P/SKB8iXC+vrUDHWqXc7uswsOTC6t+gGmvQNJGqNwCLnkd6vVS0BaRAqXALSLih/YkZ/DAt8uYs/EAlzSrxEv9m1E6MsztsgoHjwfif3aC9v61UKEJDPwSGvZR0BYRVyhwi4j4mT9W7+GRH1aQme3h1SubcXVsdV0YCWAtJPwGcS/D3pUQXR8GjHLm0w7SEBsRcY8Ct4iInziSlct/f13Dl/O30bRqSd65phV1yhd3uyz3WQsbpkDci7BrKZStDf1HQLMBEBTsdnUiIgrcIiL+YPWuZO4du4wN+9K4vUttHuzVgLCQIt5ray1sng5/vgg7FkCpGnDZcGgxCIL18SYihYfekURECjGPx/Lp7M289nsCpSND+eJf7elUL9rtsty3dY4TtLfOghJVoM+b0OoGCNE4dhEpfBS4RUQKqX2pGTz03QpmrNtPz0YVeW1Ac8pGFfFAuX2hM3RkUxxEVYDer0KbIRAa4XZlIiInpcAtIlIIxa3dx0PfLSctM4cX+jXl+vY1ivaFkbuWQtxLsH4SRJaDXv+F2H9BWKTblYmInJYCt4hIIZKRncsrE9fy2ZwtNKxUgq9v60D9iiXcLss9e1bBtJdh7QSIKA0XPA3tbodwXSwqIv5DgVtEpJBYtzeVe75eyto9qdx0fgyP9G5IRGgRnWVjf4ITtFf/BOElodtj0OFOiCjldmUiImdNgVtExGXWWr6Yt5X//hpPiYgQRg1pS/eGFdwuyx0HNjpLsK/8DkKKQecHoeN/ILKs25WJiOSZAreIiIsOpGXyyA8rmBK/j671yzP0qhaULxHudlkF7+BWmPEaLPsagsOg411w/n0QpRlZRMT/KXCLiLhk5vr9PPDtcpIPZ/N038YMOS+GoKAidmFk8k6YORSWfO4su97uVuj0AJSo6HZlIiI+o8AtIlLAsnI8DJ2UwIgZm6hboTijb2pH4yol3S6rYKXugZlvwuJRzgI2rW+Azg9BqapuVyYi4nMK3CIiBSh+dwoPf7+cVTtTuL5DDZ64pDHFworQhZHpiTDrLVg4EnKzoOUg6PJ/UKam25WJiOQbBW4RkQKQlpnD25PXMWrOFkoVC2XEDW3o1aSS22UVnMNJMOddmP8R5ByBZldD1/+DcnXcrkxEJN8pcIuI5CNrLRNX7eH5X9awJyWDQe1q8EjvBpSOLCIrRmYdhnnvwexhkJkCTa6Abo9C+QZuVyYiUmAUuEVE8snWA+k8/fNqpq/bT6PKJXn/+ta0rlHG7bIKhicXln3prA6Zuhsa9IEeT0DFJm5XJiJS4BS4RUR8LDMnl4+mb+K9uA2EBgfxdN/G3NixJiHBQW6Xlv+sdZZfn/wM7I+Ham1hwCio2dHtykREXKPALSLiQ7PWJ/LUz6vYnJhOn+aVeapPYyqVinC7rIKxcwlMfhq2zISyteGq0dD4cme6PxGRIuy0gdsY8ynQF9hnrW3q3fY6cCmQBWwEbrLWHjLGtANGHH0q8Ky19ifvc9oAnwHFgN+Ae6211hgTDowB2gAHgIHW2i0+O0MRkQKwLyWDF36N55flu4gpF8mYm9vRpX55t8sqGAe3wNQXYNX3EFkOLn4d2gyBkCIyTl1E5DTOpIf7M2A4Tig+ajLwmLU2xxjzKvAY8AiwCoj1bq8MLDfG/GKtzQE+AG4D5uEE7t7AROBfwEFrbV1jzDXAq8BAn5ydiEg+y/VYPp+7hTcmrSMzx8O9F9Tjzm51iAgtAlP9HU6CGUNhwQgICnHm0T7/XogoYnOKi4icxmkDt7V2hjEm5rhtk465Ow8Y4N1++JjtEYAF8Ibvktbaud77Y4B+OIH7cuBZ73O+B4YbY4y11p796YiIFJxl2w/xxE8rWb0rhc71onn+8qbUio5yu6z8l33Emd5v5puQlQotr4Puj0PJKm5XJiJSKPliDPfNwDdH7xhj2gOfAjWBG7y93VWBHcc8ZwdwdDmxqsB2AO++yUA5IPH4AxljbsPpJadGjRo+KF1E5OwlH87mtT/W8tWCbZQvHs7wa1vRp1llTKCPVfZ4YMU38Od/IWUH1OsFPZ/VzCMiIqdxToHbGPMEkAN8eXSbtXY+0MQY0wgYbYyZiDOe+3hHe7BP9dg/N1o7Au8Y8djYWPWAi0iBstby09KdvPRbPEnpWQw5L4YHLqxPiYhQt0vLfxv/hElPw96VULkl9Hsfand1uyoREb+Q58BtjBmMczHlBSca/mGtjTfGpANNcXq0qx3zcDVgl/f2DqA6sMMYEwKUApLyWpeISH5YvzeVJ8etYv7mJFpWL81nN7WjadVSbpeV//asdGYe2fgnlK4BV450Fq8JKgJTHIqI+EieArcxpjfORZJdjx23bYypBWz3Dg2pCTQAtlhrE40xqcaYDsB84EbgXe/TxgODgbk4Y8H/1PhtESksjmTlMuzP9Xw8YxNR4SG81L8Z17StTlBQgA8fObQd4l6E5WMhohRc9BK0vQVCwt2uTETE75zJtIBfA92AaGPMDuAZnFlJwoHJ3jGL86y1dwCdgEeNMdmAB/i3tfboWOw7+XtawInefwAjgc+NMRtwerav8cmZiYicoylr9vLM+NXsPHSEK1tX47FLGhJdPMAD55FDMOtNmPehc//8e6DT/VCsiKyQKSKSD4y/dibHxsbaRYsWuV2GiASgHQcP8+z4NUyJ30u9CsX5b7+mtK9dzu2y8ldOJiz8BGa87oTuFtdA9yegdHW3KxMRcZ0xZrG1Njavz9dKkyIiXlk5HkbO2sywqesBePTihvyrUy1CA3lJdo8HVv8IU5+HQ1uhdje48Hmo3MLtykREAoYCt4gIMG/TAZ4at4r1+9K4sHFFnrm0MdXKRLpdVv7aPBMmPwW7lkLFpnD9j1D3ArerEhEJOArcIlKkJaZl8tJv8fy4ZCdVSxfjkxtj6dm4ottl5a998TD5GVj/B5SsBv0+hOZXQ1ARWB1TRMQFCtwiUiR5PJavF27jtd8TOJyVw7+71eHuHvUoFhbAoTNltzPzyLIvIawE9HwO2t8OocXcrkxEJKApcItIkbNqZzJPjlvFsu2H6FC7LP/t15S6FUq4XVb+yUiBOcNgznDw5ED7O6DLwxBZ1u3KRESKBAVuESkyUjOyeXPyOkbP2ULZqDDeGtiCfi2rBu6S7LnZsPgzmPYKHE6EpldCj6egbC23KxMRKVIUuEUk4FlrmbBiNy9MWMP+tEyua1+Dh3s1pFRkgC7Jbi3Ej4cpz0HSRqjZCXo9D1XbuF2ZiEiRpMAtIgFtc2I6T/+8ipnrE2latSQjboylZfXSbpeVf7bNg0lPwY4FUL4hXPst1OsFgdqLLyLiBxS4RSQgZWTn8sG0jXwwfSPhwUE8d1kTru9Qk+BAXZI9cT1MeRbWToDileCyd6HFtRCst3kREbfpnVhEAs70dft5+udVbD1wmMtaVOHJPo2oUDLC7bLyR9o+Z4z24s+c2Ua6Pwkd/w1hUW5XJiIiXgrcIhIw9iRn8MKENfy6cje1o6P44l/t6VQv2u2y8kdmGsx9z5l9JCcDYm+Gro9A8fJuVyYiIsdR4BYRv5eT62H03K28OSmBbI/lgQvrc3vX2oSHBOCc2rk5sPRzmPYypO2FRpfBBc9AdF23KxMRkZNQ4BYRv7Z460GeHLeK+N0pdK1fnucvb0LNcgE4nMJaSJgIU56BxHVQvT0M/AKqt3O7MhEROQ0FbhHxS4cOZ/Hq72v5esF2KpWM4IPrWtO7aaXAnFN7x2KY/BRsnQ3l6sLAL6FhH808IiLiJxS4RcSvWGv5fvEOXp64luQj2dzSqRb3XVif4uEB+HaWtAmmPg+rf4Ko8tDnDWg9GIIDdP5wEZEAFYCfUCISqBL2pPLkuJUs3HKQ1jVK82L/ZjSqXNLtsnwv/QDMeA0WjnTCdddH4Ly7ITyAl58XEQlgCtwiUuilZ+YwbOp6Rs7aTPGIEF69shlXtalOUKDNqZ19BOa9D7Pehqw0aH0jdHsMSlRyuzIRETkHCtwiUmhZa/lj9V6e/2U1u5IzuDq2Go9e3IiyUWFul+ZbnlxYPhbiXoSUndDgEmfmkQoN3a5MRER8QIFbRAql7UmHeWb8av5cu4+GlUowbFArYmPKul2Wb1kLG6bC5Kdh32qo2gau+Bhizne7MhER8SEFbhEpVLJyPHw8cxPv/rmeIGN44pJGDDk/htDgILdL861dy5ygvXk6lImBAaOgSX/NPCIiEoAUuEWk0JizMZGnxq1i4/50ejepxNOXNqZK6WJul+VbBzY6S7Gv/BaKlYXerzqrRIYE2DAZERH5iwK3iLhuf2omL/66hnHLdlG9bDFGDWlL94YV3C7Lt/YnwIyhsOp7CA6DTg9Ap/sgopTblYmISD5T4BYR11hr+WL+Nl77fS0Z2bnc3aMud3WvS0RoAC3JvmcVzHgd1vwMocWg413Q8W4oUdHtykREpIAocIuIa96esp53pq7nvDrleKFfU+qUL+52Sb6zaylMfx0SfoWwEtD5AehwF0SVc7syEREpYArcIuKKbxZu452p6xnQphqvD2geOEuyb18A01+DDZOd4SLdHoP2t0OxMm5XJiIiLlHgFpECF5ewj8d/WkXnetG8fEWzwAjbW2Y5QXvzdIgsBxc8DW1vhYgAXAlTRETOigK3iBSolTuSuevLJTSoWIIPrm/j39P9WQub4pyhI9vmQFQF6PVfZ9aRsCi3qxMRkUJCgVtECsz2pMPc9NlCykSG8dlNbSke7qdvQdbCuj+ciyF3LoISVeDi15yl2EMDbBpDERE5Z376aSci/uZgehaDRy0gO9fD2NvaU6FkhNslnT2PB9ZOcIL2nhVQqgb0fQtaXgch4W5XJyIihZQCt4jku4zsXG4Zs4gdB4/w5S3tqVuhhNslnR1PLqwZ58yjvW8NlK0Nl78HzQdCcKjb1YmISCGnwC0i+SrXY7lv7DKWbDvIe9e2pm1MWbdLOnO5ObDyO5j5BhxYD9EN4IqPockVEKy3TxEROTP6xBCRfGOt5YUJa/h99R6e6tuYS5pVdrukM5OTBcu/hllvwsEtULEpXPUZNLocgvz4Ik8REXGFAreI5JtPZm7mszlb+FenWvyrUy23yzm97AxY+jnMfgeSt0PllnDNV1D/YgVtERHJMwVuEckX45fv4sXf4unTrDJPXNLI7XJOLeswLP4M5gyD1N1QrZ1zMWTdnhAIc4SLiIirFLhFxOfmbTrAQ98up21MGd64ugVBQYU0tGamwsKRMHc4pO+Hmp2g/4dQq6uCtoiI+IwCt4j41Lq9qdw2ZhE1ykXy8Y2xRIQGu13S/8pIhvkjYN57cOQg1O4OXf8Pap7ndmUiIhKAFLhFxGf2pmQw5NMFhIcG89lNbSkdGeZ2Sf90OAnmfQDzP4LMZKh3kRO0q8W6XZmIiAQwBW4R8YnUjGyGjFpI8pFsvrm9I9XKRLpd0t/S9jvDRhZ+Allp0LAvdHkYqrR0uzIRESkCFLhF5Jxl5Xi484slrN+byqdD2tK0aim3S3Kk7oHZw2DRp5CTAU36Q5eHoGITtysTEZEiRIFbRM6JtZZHf1zBrA2JvD6gOV3ql3e7JEjeAbPehiVjwJMDza6Czg9C+fpuVyYiIkWQAreInJM3Jq3jxyU7eeDC+lwVW93dYpI2w6y3YNlXgIWW10Kn+52l2EVERFyiwC0iefbl/K0Mj9vANW2rc3ePuu4VkrjBWX59xTcQFAxtBsP590Fpl38BEBERQYFbRPJoavxenhq3iu4NyvPffk0xbsxbvS8eZgyF1T9CcBi0uw3OvwdKVin4WkRERE5CgVtEztqy7Yf4z1dLaVq1FMOvbU1IcAEve757Bcx4HeLHQ2gUnHc3dPwPFK9QsHWIiIicAQVuETkrWw+k86/PFhJdIoyRg9sSFV6AbyM7FjtBe91ECC/pTO3X4d8QWbbgahARETlLCtwicsYOpGUy+NMFeKxl9E3tKF8ivGAOvHUuzHgNNv4JEaWh+xPO8JFipQvm+CIiIudAgVtEzsiRrFxuGbOI3ckZfHVre2qXL56/B7QWNs9werS3zITIaOj5LLS9BcJL5O+xRUREfEiBW0ROK9djuWfsUpZtP8QH17WhTc18HMJhLWyY6vRob58PxSvCRS9BmyEQFpV/xxUREcknCtwickrWWp4Zv4rJa/by3GVN6N20Un4dCBImOj3au5ZAyWpwyVBodQOERuTPMUVERAqAAreInNKH0zfxxbxt3N6lNoPPi/H9ATweZ7aRGUNh70ooXRMufQdaXAshYb4/noiISAFT4BaRkxq3dCev/r6Wy1pU4ZHeDX3beG6OM3/2zDdg/1ooVxf6feAswx4c6ttjiYiIuEiBW0ROaM6GRB7+fjkdapfl9auaExTko4VtcrJg+dfOEuwHN0P5hnDlSGjS31klUkREJMAocIvI/1i7J4XbP19MregoProhlvAQHwTh7COwZAzMfgdSdkLlljDwC2jQB4IKeOEcERGRAqTALSL/sDv5CEM+XUhkeDCf3dSOUsXOcXhHZiosHAlz34P0fVCjI1w6DOpeAG4sBy8iIlLAFLhF5C8pGdkM+XQhaZk5fHdHR6qULpb3xg4nwYIRMO8DyDgEtbtDl88g5nxflSsiIuIXFLhFBIDMnFxuH7OYjfvTGH1zOxpVLpm3htL2Ob3ZCz+BrDRocAl0fgiqtfFtwSIiIn5CgVtE8HgsD3+3grmbDvDWwBacXzf67BtJ3glzhsHizyAn07kIsvODUKmpz+sVERHxJwrcIsJrfyQwfvku/q93A/q3qnZ2T07aBLPehmVfARaaD4RO90N0vfwoVURExO8ocIsUcWPmbuHD6Ru5vkMN7uxa58yfuG8tzHoTVn4HQaHQ+kY4/14oUzP/ihUREfFDCtwiRdgfq/fwzPjV9GxUkecua4o5k1lDdi93VoWM/wVCi0GHf0PH/0DJyvlfsIiIiB9S4BYpohZvPcg9Xy+lRbXSvDuoFcGnW9hm23yY8TpsmAzhJaHLQ9D+TogqVzAFi4iI+CkFbpEiaNP+NG4ZvZDKpSIYOTiWYmEnWdjGWtg83enR3jITipWFHk9Bu1sholTBFi0iIuKnFLhFipjEtEyGjFqIMYbPbmpHueLh/7uTtbDuD6dHe+ciKF4JLnoJ2gyBsKgCr1lERMSfKXCLFCGHs3L412cL2Zeawde3diAm+rjw7MmF+PEw4w3YuxJK14A+b0LL6yA0wp2iRURE/JwCt0gRkZPr4T9fLWXlzmRG3BBLqxpl/n4wNxtWfg8z34AD66FcPej3ATS7CoLPcWl3ERGRIk6BW6QIsNby1M+r+HPtPl7s35SejSs6D+RkwrIvYdZbcGgbVGwKA0ZB48sh6CTjukVEROSsKHCLFAHvxW3g6wXbuat7Ha5rXxOy0p0VIee8C6m7oWosXPwa1O8NZzI1oIiIiJwxBW6RAPf94h0MnbSOK1pV5aEulZxhI3Pfg8MHIKazM3SkdjcFbRERkXyiwC0SwGau38+jP6zgolqhvF5uAubtEZCZDHUvdObRrtHB7RJFREQCngK3SIBavSuZp76YyislJnJl4mTM7nRodCl0fhCqtHK7PBERkSJDgVskAO3Zto41nz3FH2YqYVm5mKYDoPMDUKGR26WJiIgUOQrcIoEkcQNZ098geuU39AMON7qa8J4PQ7k6blcmIiJSZClwiwSCvath5hvY1T+BDeHL3AtpetWTtGnezO3KREREijwFbhF/tnOxsypkwq/YsOJMLj2Qx3d34elB3WjTvIrb1YmIiAgK3CL+actsmDkUNv4JEaWh66O8mdKNd+cm8fglDbmshcK2iIhIYaHALeIvrIWNU50e7W1zIKo89HwO2v6LTxcm8u7cNQw5L4ZbO9d2u1IRERE5hgK3SGHn8UDCb06P9q6lULKqsypkqxsgLJKJK3fzwq9ruKhJRZ7q2xijBWxEREQKFQVukcLKkwurf3JWhty3BsrUgkuHQYtBEBIGwKItSdz7zTJa1yjDO9e0IjhIYVtERKSwUeAWKWxysmDFNzDrLUjaCOUbwhUfQ5MrIPjvH9kN+9K4ZcwiqpUuxic3xhIRGuxi0SIiInIyCtwihUVOJiwZA7PfgeTtULkFXP05NOwLQUH/2HVfagZDRi0gJMgw+uZ2lIkKc6loEREROR0FbhG35ebA8q9g+mtO0K7eHvq+BXV7wgnGY6dl5nDzZwtJSs9i7G0dqF420oWiRURE5EwpcIu4xeOB1T9C3EvO0JEqreGyYVC7+wmDNkB2roe7vlxC/O5UPrkxlubVShdszSIiInLWFLhFCpq1kDAR4l6EvaugQhO45itocMlJg7bzNMsTP61k+rr9vHJFM7o3rFCARYuIiEheBZ1uB2PMp8aYfcaYVcdse90Ys9YYs8IY85MxprR3+4XGmMXGmJXerz2OeU4b7/YNxphhxjt3mTEm3BjzjXf7fGNMjO9PU6QQsBY2xsEnF8DYQZB9BK4cCXfMgoZ9Thm2Ad6Zup5vF+3gngvqcU27GgVUtIiIiJyr0wZu4DOg93HbJgNNrbXNgXXAY97ticCl1tpmwGDg82Oe8wFwG1DP++9om/8CDlpr6wJvAa+e/WmIFHLb5sFnfeHzfpC2Dy57F+5aAM0G/M8FkSfy7cLtvD1lPVe1qcb9Pevlf70iIiLiM6cdUmKtnXF8r7O1dtIxd+cBA7zblx6zfTUQYYwJB8oCJa21cwGMMWOAfsBE4HLgWe9zvgeGG2OMtdbm4XxECpddy+DP/8KGyRBVwVmwps0QCAk/4yamJezjsZ9W0qV+eV66opkWthEREfEzvhjDfTPwzQm2XwkstdZmGmOqAjuOeWwHUNV7uyqwHcBam2OMSQbK4fSWi/infWudMdrx4yGiNPR8FtrdBmFRZ9XMqp3J/PvLJTSsVIL3r2tNaPCZ/FFKRERECpNzCtzGmCeAHODL47Y3wRka0uvophM83Z7BY8cf7zacYSnUqKExrFIIJW2G6a86C9eERkLXR6DjXRBR6qyb2p50mCGjFlImMoxRQ9pSPFzXOIuIiPijPH+CG2MGA32BC44d/mGMqQb8BNxord3o3bwDqHbM06sBu455rDqwwxgTApQCkk50TGvtCGAEQGxsrIacSOGRssuZR3vp5xAU4oTs8++HqHJ5au5gehaDRy0gO9fD2NvaU6FkhI8LFhERkYKSp8BtjOkNPAJ0tdYePmZ7aeBX4DFr7eyj2621u40xqcaYDsB84EbgXe/D43EusJyLMxb8T43fFr+Rnggz34SFn4D1OOOzOz8EJSvnucmM7FxuGbOIHQeP8OUt7alboYTv6hUREZECd9rAbYz5GugGRBtjdgDP4MxKEg5M9l7ANc9aewfwH6Au8JQx5ilvE72stfuAO3FmPCmGc7HkRO/jI4HPjTEbcHq2r/HJmYnkpyOHYO5wmPs+5ByBFoOc4SNlap5Ts7key31jl7Fk20Heu7Y1bWPK+qZeERERcY3x187k2NhYu2jRIrfLkKImMw0WfASz34GMZGjSH7o9DuXrn3PT2bkeXpiwhjFzt/JU38b8q1MtHxQsIiIi58oYs9haG5vX5+sqLJEzkZ0Biz6FWW9C+n6o3xu6PwGVm59z09Zafl+1h9f/SGBTYjq3dKqlsC0iIhJAFLhFTiU3G5Z+ATNeh5SdUKsr9HgKqrf1SfPzNx3g5YlrWbb9EPUqFOeTG2O5oJGWbBcREQkkCtwiJ+LJhVU/QNxLcHAzVGsL/T6A2l190nzCnlRe+30tU9fuo1LJCF67sjlXtqlGcJAWtREREQk0Ctwix7IW1k6AP1+E/fFQsRkM+gbqXwQ+WOFx16EjvDl5HT8s2UHx8BAe6d2Qm86PISI02AfFi4iISGGkwC0CTtDeMBX+fAF2L4Ny9WDAKGjcD4LOfXXH5MPZvD9tA6PmbAELt3SqxV3d61I6Muyc2xYREZHCTYFbZMts+PO/sG0OlK4Bl78PzQdC8Ln/eGRk5zJ6zhbei9tAamYO/VtV5YEL61OtTKQPChcRERF/oMAtRdfOxU7Q3vgnFK8ElwyF1oMh5Nx7nXM9lh+X7OCtyevYlZxBtwbleaR3QxpVLumDwkVERMSfKHBL0bN3DcS96IzVLlYWLnwB2t4CYefe62ytJS5hH69OTCBhbyotqpVi6NUtOK9OtA8KFxEREX+kwC1Fx4GNMO1lWPk9hJdwFqzpcCdE+KbXeem2g7wycS3zNycRUy6S965tzSXNKmF8cLGliIiI+C8Fbgl8yTtg+quw9EsICYdO98F590Ckb5ZN37Q/jaGTEvht5R6ii4fxwuVNuKZdDUKDz/1iSxEREfF/CtwSuNL2wcw3nBUiAdrdCp0egBIVfdL8vtQMhk1dz9cLthMeEsR9Petxa+faRIXrx0pERET+pmQggedwEswZBvM/gpxMaHUddPk/KF3dJ82nZeYwYvpGPp65mexcD9e1r8HdPepRvkS4T9oXERGRwKLALYEjMxXmfQBzhkNmCjS9Ero/DuXq+KT5rBwPXy/YxrCp6zmQnkWf5pV5uFcDYqKjfNK+iIiIBCYFbvF/2Udg4Scw6y04fAAa9nWCdsUmPmne47FMWLmboX8ksC3pMB1rl+PRixvSonppn7QvIiIigU2BW/xXThYsHQMzhkLqbqjTA3o8CVXb+OwQszck8srEtazcmUzDSiX47Ka2dK1fXjOPiIiIyBlT4Bb/48mFFd/AtFfg0Fao3gGu/ARiOvnsEKt3JfPq7wnMWLefqqWL8ebVLbi8ZVWCgxS0RURE5OwocIv/8Hgg/meIewkS10HlFtDnDajbE3zU47w96TBvTl7HuGU7KVUslCf7NOL6DjWJCA32SfsiIiJS9ChwS+FnLayf5CzDvmcFlG8IV4+BRpf5LGgnpWfxXtwGPp+7FWPgjq51uKNrHUoVC/VJ+yIiIlJ0KXBL4bZ5hhO0t8+HMjHQfwQ0GwBBvulxPpKVy6ezN/PhtI2kZ+VwVZvq3HdhPSqXKuaT9kVEREQUuKXw8XicHu25w2HLTChRBfq+Da2uh2Df9Djn5Hr4fvEO3pqyjr0pmfRsVJH/692A+hVL+KR9ERERkaMUuKXwyEyFZV/D/A8haaMTtC96GWJvhtAInxzCWsvkNXt57Y8ENuxLo3WN0gy/tjVtY3yzzLuIiIjI8RS4xX0Ht8CCj2HJGGfBmmptoccTzhhtH/VoAyzaksQrE9eyaOtBapeP4qMb2tCrcUVN8SciIiL5SoFb3GEtbJ3trAyZ8BuYIGjcDzrcCdVifXqoDftSefX3BCav2UuFEuG81L8ZV8dWIyQ4yKfHERERETkRBW4pWDmZsOoHmPc+7FkJxcpCp/uh7S1QsopPD7UnOYO3p6zj20XbiQoL4eGLGnDT+TFEhunbXkRERAqOkocUjNS9sOhTWDQS0vdD+UZw6TBofjWE+nZGkJSMbD6ctpFPZ28m12MZcl4t/tOjLmWjwnx6HBEREZEzocAt+WvXMuciyFU/QG4W1O8N7e+A2t18Nof2UZk5uXw+dyvD4zZw6HA2/VpW4cFeDaheNtKnxxERERE5Gwrc4nueXFj7qzM+e9scCI2CNkOg3e0QXdf3h/NYfl6+k6F/rGPnoSN0rhfNI70b0rRqKZ8fS0RERORsKXCL7xw5BEs/h/kjIHkblK4BvV505s8uVtrnh7PWMmN9Iq9MXEv87hSaVi3Jq1c2p1O9aJ8fS0RERCSvFLjl3CVucIaNLPsKstOhZifo/RI0uMRnK0Ieb+WOZF6eGM+cjQeoXrYY71zTkkubVyEoSFP8iYiISOGiwC15Yy1sioN5H8L6PyA4DJoOgA53QOUW+XbYrQfSef2PBCas2E3ZqDCeubQx17WvSViIpvgTERGRwkmBW85O1mFY+a0TtPfHQ1R56PaYsxpk8Qr5dtjEtEzenbqeL+dvIzQ4iHt61OXWLrUpEeG7hXFERERE8oMCt5yZ5J2w8BNYPAqOHIRKzaHfh9D0CggJz7fDpmfm8MnMzYyYsZGMHA/XtK3OvRfUo0JJ3yz1LiIiIpLfFLjl1LYvhPkfwOpxgIWGfaD9nVDzPJ9P63e87xfv4JWJa0lMy+TippV46KIG1ClfPF+PKSIiIuJrCtzyv3KzYc3PzrR+OxdBeElnyfV2t0KZmAIp4btF23n4+xXE1izDiBvb0LpGmQI5roiIiIivKXDL3w4nOUNGFnwCqbugbB24+HVoOQjCSxRYGbM3JPLYjyvpVDeaUTe1JTRYF0SKiIiI/1LgFtgX7/Rmr/gGcjKgdne49G2oeyEEFWzYXb83lTu+WEzt8lG8f31rhW0RERHxewrcRZXHAxsmw7z3YdM0CImA5gOdZdcrNnalpH2pGQwZtZCI0GBG3dSOkpqBRERERAKAAndRk5nmLFAz/0NI2gglKsMFT0PrIRBVzrWyDmflcMvoRSSlZ/Ht7R2pWrqYa7WIiIiI+JICd1FxcAss+BiWfA6ZyVA1Fq4cCY0vh2B3e5JzPZZ7xy5j1c5kRtwQS7NqpVytR0RERMSXFLgDmbWwdY4zrd/aXwEDTfo50/pVb+t2dX958dd4Jq/Zy7OXNqZn44pulyMiIiLiUwrcgSgnE1b94FwIuWcFFCsD598HbW+BUlXdru4fPpu9mU9nb+am82MYcn4tt8sRERER8TkF7kCStg8WjoRFIyF9P5RvCH3fdi6GDIt0u7r/MWXNXp6fsIYLG1fkyT7uXKgpIiIikt8UuAPB7uUw70NY9T3kZkG9i6DDHc70fvm8GmRerdyRzN1fL6Vp1VK8c01LgoMKZ50iIiIi50qB2195ciHhN2fYyNbZEBoFrQc70/pF13W7ulPacfAwN49eSNmoMD4ZHEtkmL4NRUREJHAp6fibjGRnppEFH8GhbVCqBvT6L7S6AYqVdru600rJyObmzxaSkZ3Ll7e0p0KJCLdLEhEREclXCtz+ImmT05u97CvISoMa50GvF6HBJRDsHy9jdq6Hf3+xhE370xl9czvqVyy45eJFRERE3OIfSa0oS90D01+FxaPBBEGzAc6wkSot3a7srFhreeKnlczakMjrA5pzft1ot0sSERERKRAK3IVVRgrMGQZz33MuhIy9Cbo8DCUquV1Znrw/bSPfLtrBPT3qclVsdbfLERERESkwCtyFTU6mM7XfjNfhSBI0uQJ6PAnl6rhdWZ79vGwnr/+RQL+WVbj/wvpulyMiIiJSoBS4CwtPLqz8Dv58EZK3Qa2ucOFzUKWV25WdkwWbk3j4uxW0q1WWVwc0xxTSaQpFRERE8osCt9ushQ1TYMqzsHcVVGoOl70DdXq4Xdk527Q/jds+X0S1ssUYcUMbwkOC3S5JREREpMApcLtpxyKY/AxsnQVlYuDKkc4QkqAgtys7ZwfSMrnps4UEGcOoIW0pHRnmdkkiIiIirlDgdkPiepj6PMSPh8houPh1aDMEQgIjlGZk53Lb54vZk5zBV7d2oGa5KLdLEhEREXGNAndBSt0D016BJWMgtBh0eww63gXhgTMftcdjefC75SzeepD3r2tNm5pl3C5JRERExFUK3AUhIxlmvwNz3wdPDrS9xZnir3h5tyvzudf+SODXFbt57OKGXNKsstvliIiIiLhOgTs/ZWfAwk9g5lA4chCaDoAeT0DZ2m5Xli++XrCND6dv5Lr2NbitS2Ceo4iIiMjZUuDOD55cWPEtxL0IydudGUcueMbvVoc8G9PX7efJcavo1qA8z13WRNP/iYiIiHgpcPuStbB+kjPF3741ULklXPYu1OnudmX5Kn53Cnd9uYT6FUsw/NrWhAT7/ywrIiIiIr6iwO0r2xfClGdg62woUwsGjILG/QJiir9T2ZuSwc2fLaR4eAijhrSleLi+pURERESOpXR0rvavg6nPwdoJEFUBLhnqTPEXHOp2ZfkuLTOHm0YtJOVINt/dcR6VSkW4XZKIiIhIoaPAnVcpu5wp/pZ+DqGR0P0J6PBvCC/udmUFIifXw91fLSFhbyqfDI6lcZWSbpckIiIiUigpcJ+tI4dg9tsw7wPn4sh2t0OXhyAq2u3KCoy1lud+WUNcwn5e7N+U7g0quF2SiIiISKGlwH2msjNgwQiY+YYzr3azq5wp/srEuF1ZgRs5azOfz9vK7V1qc137mm6XIyIiIlKoKXCfjicXlo+FuJcgZQfU7elM8Ve5uduVuWLiyt28+Fs8lzSrxCO9G7pdjoiIiEihp8B9MtbCut9hynOwPx6qtIb+H0CtLm5X5pql2w5y3zfLaFW9NG9e3ZKgIM21LSIiInI6Ctwnsm2+M8XftrlQtg5cNRoaXw5FeDGXbQcOc8voRVQsGcHHN8YSERrsdkkiIiIifkGB+1j71sLU5yHhVyheEfq+Ba1uKBJT/J1K8uFsbvpsATkey6ib2lKueLjbJYmIiIj4DQVugOSdMO0lWPYVhEZBjyedKf7CotyuzHWZObnc/sUiticd4fN/taNO+aIx7aGIiIiIrxTtwH3kIMx6C+Z/BNYD7e+Ezg9CVDm3KysUrLU89sNK5m1K4u2BLWlfW/8vIiIiImeraAbu7CNOyJ71JmSkQPOB0P1xKKMp7o719pT1/Lh0Jw9eWJ9+raq6XY6IiIiIXypagTs3B5Z/BXEvQ+ouqNfLmeKvUlO3Kyt0vl+8g3emrmdAm2r8p0ddt8sRERER8VtFI3BbCwm/OVP8JSZA1Vi48mOI6eR2ZYXSnI2JPPbjCs6vW46X+jfDFOHZWURERETOVeAH7q1znSn+ts+HcnXh6s+h0aVFeoq/U9mwL5XbP19MTLko3r+uDWEhQW6XJCIiIuLXAjdw713jTPG3biIUrwSXvgMtr4fgwD3lc7U/NZMhoxYSHhLMqJvaUqpY0Z4OUURERMQXAi99HtoO016G5V9DWAm44Gln9pGwSLcrK9SOZOVyy+iFHEjL4pvbO1CtjP6/RERERHwhcAL34SRn1pH5IwDrzKPd+UGILOt2ZYVersdy3zdLWbEzmY+ub0PzaqXdLklEREQkYPh/4M46DPM/hFlvQ2YKtLwWuj0Gpau7XZnfePm3eP5YvZen+zamV5NKbpcjIiIiElD8OHBbWPwZTHsFUndD/d7O8JGKTdwuzK+MmbuFT2ZtZsh5MdzcqZbb5YiIiIgEHP8N3PvWwi/3QrV2MOBTqHme2xX5nanxe3l2/Gp6NqrIU30bu12OiIiISEDy38ANMPBLaNhHU/zlwaqdyfznq6U0qVKKYYNaEhyk/0MRERGR/OC/gbtCQ2jU1+0q/NKuQ0e4+bOFlI0KY+TgWCLD/PfbQERERKSw8+NVTdQjmxcpGdncNGohR7JyGXVTWyqUjHC7JBEREZGApq7NIiQ718NdXy5h4/40PrupHfUrlnC7JBEREZGAp8BdRFhreWrcKmauT+S1Ac3pVC/a7ZJEREREioTTDikxxnxqjNlnjFl1zLbXjTFrjTErjDE/GWNKe7eXM8bEGWPSjDHDj2unjTFmpTFmgzFmmDHOlY7GmHBjzDfe7fONMTG+PUUB+GD6RsYu3M5/utfl6ljNUS4iIiJSUM5kDPdnQO/jtk0GmlprmwPrgMe82zOAp4CHTtDOB8BtQD3vv6Nt/gs4aK2tC7wFvHoW9csZGL98F6/9nsDlLavwYK/6bpcjIiIiUqScNnBba2cAScdtm2StzfHenQdU825Pt9bOwgnefzHGVAZKWmvnWmstMAbo5334cmC09/b3wAVHe7/l3C3aksRD3y2nXUxZXhvQHP3XioiIiBQsX8xScjMw8TT7VAV2HHN/h3fb0ce2A3hDfDJQ7kSNGGNuM8YsMsYs2r9//zkVXRRsTkzn1jGLqFq6GB/d0IbwkGC3SxIREREpcs4pcBtjngBygC9Pt+sJttkzeOyfG60dYa2NtdbGli9f/swLLYKS0rO4adQCjDGMGtKWMlFhbpckIiIiUiTlOXAbYwYDfYHrvMNETmUH3mEnXtWAXcc8Vt3bZghQiuOGsMjZycjO5bYxi9iVnMHHN7YhJjrK7ZJEREREiqw8BW5jTG/gEeAya+3h0+1vrd0NpBpjOnjHZ98I/Ox9eDww2Ht7APDnGQR4OQmPx/LQd8tZtPUgb13dkjY1y7pdkoiIiEiRdtp5uI0xXwPdgGhjzA7gGZxZScKByd6L8OZZa+/w7r8FKAmEGWP6Ab2stWuAO3FmPCmGM+b76LjvkcDnxpgNOD3b1/jm1IqmoZMSmLBiN49e3JA+zSu7XY6IiIhIkXfawG2tHXSCzSNPsX/MSbYvApqeYHsGcNXp6pDTG7tgG+9P28igdjW4vUttt8sREREREXwzS4kUAjPW7eeJcavoUr88L1zeRNP/iYiIiBQSCtwBYO2eFP795RLqVSjOe9e2IiRYL6uIiIhIYaFk5uf2pmRw86iFRIUHM+qmtpSICHW7JBERERE5hgK3H0vPzOHmzxaSfCSbT4e0pXKpYm6XJCIiIiLHOe1Fk1I45Xos93y9lPjdKYwc3JYmVUq5XZKIiIiInIACtx+y1vLcL6uZunYfL/RrSveGFdwuSUREREROQkNK/NDIWZsZM3crt3WpzQ0darpdjoiIiIicggK3n/l91R5e/C2ei5tW4tHeDd0uR0REREROQ4Hbjyzbfoj7vllKi2qleWtgS4KCNNe2iIiISGGnwO0nticd5pbRCylfIpxPBscSERrsdkkiIiIicgZ00WQhl+uxfL94O0MnrSM71zJ2SDuii4e7XZaIiIiInCEF7kJs+rr9vPRrPAl7U2lVozQvXN6UuhWKu12WiIiIiJwFBe5CKH53Ci/9Fs/M9YnUKBvJe9e25pJmlTBGY7ZFRERE/I0CdyGyJzmDNycn8N3iHZSMCOXJPo24oWNNwkM0XltERETEXylwFwLpmTl8NGMTH8/YRI7Hw7/Or8XdPepRKjLU7dJERERE5BwpcLsoJ9fDd4t38MakdSSmZdKneWUeuaghNcpFul2aiIiIiPiIArcLrLVMW7efl3+LZ93eNGJrlmHEjW1oXaOM26WJiIiIiI8pcBew1buSefm3tczakEhMuUg+vL41FzXRBZEiIiIigUqBu4DsTj7CG5PW8cOSHZQqFsozlzbmuvY1CQvR2kMiIiIigUyBO5+lZebw0fSNfDxzEx4P3Na5Nv/uXpdSxXRBpIiIiEhRoMCdT3JyPYxduJ23p6wjMS2Ly1pU4eGLGlC9rC6IFBERESlKFLh9zFrLn2v38fLEtWzYl0a7mLJ8MrgRLauXdrs0EREREXGBArcPrdqZzIu/xjN30wFqRUfx0Q1t6NW4oi6IFBERESnCFLh9YNehIwz9I4Efl+6kTGQoz13WhGvb1yA0WBdEioiIiBR1CtznIDUjmw+mbWTkrM1Y4I6udfh39zqUjNAFkSIiIiLiUODOg+xcD2MXbOPtKes5kJ5Fv5ZVeOiiBlQrowsiRUREROSfFLjPgrWWKfH7eGViPBv3p9O+VllG9WlE82ql3S5NRERERAopBe4ztHJHMi/+toZ5m5KoXT6Kj2+MpWejCrogUkREREROSYH7NHZ6L4j8aelOykaF8cLlTbimnS6IFBEREZEzo8B9EikZ2bwft5FPZ2/GAP/uVoc7uumCSBERERE5Owrcx8nO9fDV/G28M3U9SelZXNGqKg9e1ICqpYu5XZqIiIiI+CEFbi9rLZPW7OXViWvZlJhOx9rleKJPI5pWLeV2aSIiIiLixxS4geXbD/Hir/Es2JJEnfJRjBwcS4+GuiBSRERERM5dkQ7c25MO8/ofCYxfvovo4mH8t19TrmlbnRBdECkiIiIiPlIkA3fykWzej9vAqNlbMAb+070ut3etTQldECkiIiIiPlakAndWjocv529l2NT1HDqSzRWtqvHQRfWpXEoXRIqIiIhI/igSgdtayx+r9/DKxLVsOXCY8+qU4/FLdEGkiIiIiOS/gA/cS7cd5MVf41m09SD1KhRn1JC2dGtQXhdEioiIiEiBCNjAvT3pMK/+vpYJK3YTXTycl/o34+rYarogUkREREQKVMAF7uTD2QyPW8/oOVsJCoJ7etTltq51KB4ecKcqIiIiIn4gYFJoVo6Hz+c5F0SmZGRzVZtqPHBhAyqVinC7NBEREREpwvw+cFtrmbhqD6/+vpatBw7TuV40j13ciMZVSrpdmoiIiIiIfwfuxVsP8uKva1iy7RANKpbgs5va0rW+LogUERERkcLDbwP3tqTDXPnBHMqXCOfVK5sxoE11goMUtEVERESkcPHbwJ2akcPjPetxa+faROmCSBEREREppPw2qdavWIL7etZ3uwwRERERkVPy20mpQ4M1fERERERECj+/DdwiIiIiIv5AgVtEREREJB8pcIuIiIiI5CMFbhERERGRfKTALSIiIiKSjxS4RURERETykQK3iIiIiEg+UuAWEREREclHCtwiIiIiIvlIgVtEREREJB8pcIuIiIiI5CMFbhERERGRfKTALSIiIiKSjxS4RURERETykQK3iIiIiEg+UuAWEREREclHCtwiIiIiIvnIWGvdriFPjDGpQILbdRSwUkCy20UUMJ1z0VDUzrmonS/onIsKnXPRUBTPuZ61tlRenxziy0oKWIK1NtbtIgqSMWaEtfY2t+soSDrnoqGonXNRO1/QORcVOueioaie87k8X0NK/MsvbhfgAp1z0VDUzrmonS/onIsKnXPRoHM+S/48pGRRUevhFhERERH/48893OfUtS8iIiIiUhD8todbRERERMQf+HMPd8AxxuQaY5Yd8y/mFPtOM8b49ZAaY4w1xnx+zP0QY8x+Y8wEN+sqCMaY/t7zb+h2LfmpKL/GAMaYNLdrcMvpzj1A3sOKxM/xsYwxTxhjVhtjVng/p9q7XVNBMMZUM8b8bIxZb4zZaIx5xxgTdor97zPGRBZkjb7i/Z5+45j7DxljnnWxpHx3TP5abYxZbox5wBjj04yswF24HLHWtjzm3xa3C8pn6UBTY0wx7/0LgZ1n04Axxl9n2hkEzAKuOZsnGWOC86ecfHPOr7FIIZann2N/ZYzpCPQFWltrmwM9ge3uVpX/jDEG+BEYZ62tB9QHigMvnuJp9wF+GbiBTOAKY0y024UUoKP5qwnO59QlwDO+PEChD9xFuYcIwBjTxhgz3Riz2BjzhzGm8jEPX2+MmWOMWWWMaedakedmItDHe3sQ8PXRB4wx7bznt9T7tYF3+xBjzHfGmF+ASQVf8rkxxhQHzgf+hfeD2hjTzRgzwxjzkzFmjTHmw6O/XRtj0owxzxtj5gMd3as8z/LyGs80xrQ8Zr/ZxpjmBVm0r3hf2wnH3B9ujBnivb3FGPOcMWaJMWZloPWUnurc/d0pfo5P9lpfYoxZa4yZZYwZ5qd/5akMJFprMwGstYnW2l0n+5zy/hXj7QD4nOoBZFhrRwFYa3OB+4GbjTFRxpih3p/fFcaYu40x9wBVgDhjTJyLdedVDs51cvcf/4AxpqYxZqr3XKcaY2oYY0p538uOfmZFGmO2G2NCC7pwX7DW7gNuA/5jHMHGmNeNMQu953370X2NMf/nfe2XG2NeOVW7hT5wFzHFzN/DSX7yfrO+Cwyw1rYBPuWfv1FHWWvPA/7tfcwfjQWuMcZEAM2B+cc8thboYq1tBTwNvHTMYx2BwdbaHgVWqe/0A3631q4Dkowxrb3b2wEPAs2AOsAV3u1RwCprbXtr7ayCLtYH8vIafwIMATDG1AfCrbUrCqzigpVorW0NfAA85HYxcsb6ceKf4//h/d7/CLjYWtsJKF8wJfrcJKC6MWadMeZ9Y0zXIvI51QRYfOwGa20KsA24BagFtPL2+n9prR0G7AK6W2u7F3SxPvIecJ0x5viFXoYDY46eKzDMWpsMLAe6eve5FPjDWptdYNX6mLV2E05GroDzS3WytbYt0Ba41RhTyxhzMc77QHtrbQvgtVO16ReB2xhT3Pub1NFeoMu922OMMfHGmI+NM+5mkvn7T9f+6NghJf2BBkBTYLIxZhnwJFDtmP2/BrDWzgBKGmNKF3C958wbomJwej5/O+7hUsB3xphVwFs4b3pHTbbWJhVIkb43CCeE4v06yHt7gbV2k7f35Gugk3d7LvBDwZboO3l8jb8D+no/zG8GPiuQYt3xo/frYpz/J/EPJ/s5PpGGwCZr7Wbv/a9PsW+hZa1NA9rg9P7tB74BbifAP6cAA5xohgkDdAE+tNbmAPjx59I/eH+hGAPcc9xDHYGvvLc/5+/PqW+Agd7b13jv+zvj/doLuNH7/T0fKAfUwxlSNcpaexhO/9r7y/jXDKC/tTbFOGOK5hljxnsfqwcMstbeaoz5FrgS+MKtQn3MAKuttScbRnD8G4C/TjkzHhgKdMP5Rj7qBSDOWtvfOBeQTjvmsfSCKs6XjDHlcP482dQYY4FgnNftN07+emZ4Q7g/O6vX2Fp72BgzGbgcuBrw54vrcvhn50bEcY9ner/m4j/vyWfqdOful07xczyeE5+vIUB434umAdOMMSuBuwj8z6nVONniL8aYkkB1YBP+eU5n4m1gCTDqFPscPffxwMvGmLI4v5T9mb+l5S9jTG2c9+R9OD+/d1tr/zhun96cxWvvFz3cOCf7kjFmBTAFqApU9D622Vq7zHs70HqIEoDyxrlQBWNMqDHm2F7egd7tnXD+3JHsQo2+8CnwvLV25XHbS/H3BXZDCrSi/DMA589xNa21Mdba6sBmnF6Cdt4/UwXhvLb+OHzkZPLyGn8CDAMW+nmv0VagsTEm3Pvn2QvcLqgABeq5n+znGE58vmuB2ubvmacG4oeMMQ2MMfWO2dQSiCfwP6emApHGmBvhr4vX38D5y9sk4A7jvYDfGzgBUoESBV+q73jfd7/FGVJx1Bz+vkj4OryfU96/fiwA3gEm+HMnkTGmPPAhMNw6c2f/Adx5dEy6Maa+MSYK57W/2XhnoznmtT8hf+lNuQ5nzFsba222MWYLf/ccZB6zXy7gz0NK/sFam2WMGQAM8755h+D8xrnau8tBY8wcoCTOn939krV2B84P6fFeA0YbYx7Az39bPsYg4PgLK34A7gTmeh9rBswAfirY0vJPXl5ja+1iY0wKp+5dKbS8H8CZ1trt3r++rQDWA0vdrSz/FYFzP9nP8bU4AeUf52utPWKM+TfwuzEmESeY+KPiwLveYSE5wAac4SUjCODPKWutNcb0B943xjyF01n5G/A4Tu6oD6wwxmQDH+OMcx4BTDTG7Pbjcdzg/GLxn2Pu3wN8aox5GGdY0U3HPPYNznDAbgVWne8U8w4ZCcX53v4ceNP72Cc4nblLjDEG57z7WWt/N87F/YuMMVn8/T1xQoV+4RvjzFLyBFDXWnu3MaY7zgdzLe8uE6y1Tb37PgQUt9Y+60qxInlkjOkGPGSt7etyKYWGMaYKzp+uG1prPS6Xc9aMMS2Aj621/jozQ54V5XM/GWNMcWttmvcD+z1gvbX2Lbfryk/GmGk472uL3K5FxG2FekjJ0V4SnCthY40xi3B6u9e6WpiI5Cvvn27nA0/4adi+A+disSfdrqWgFeVzP41bvT1oq3GGUn3kbjkiUpAKdQ+3eklERERExN8V2h5u9ZKIiIiISCAo1D3cIiIiIiL+rtD2cIuIiIiIBIJCE7iNMdWNMXHelSNXG2Pu9W4va4yZbIxZ7/1axru9nHf/NGPM8OPammaMSTB/L5NewY1zEhEREREpNIEbZ97DB621jYAOwF3GmMbAo8BUa209nMnnH/XunwE8BTx0kvauO2aZ9H35XLuIiIiIyAkVmsBtrd1trV3ivZ2Ks3pVVZylnUd7dxsN9PPuk26tnYUTvEVERERECqVCE7iP5V3+thXOPLwVrbW7wQnlwJkODxnlHU7ylHehARERERGRAlfoArcxpjjOErn3WWtT8tjMddbaZkBn778bfFWfiIiIiMjZKFSB2xgTihO2v7TW/ujdvNcYU9n7eGXgtOOxrbU7vV9Tga8ALZwjIiIiIq4oNIHbO+xjJBBvrX3zmIfGA4O9twcDP5+mnRBjTLT3dijQF1jl+4pFRERERE6v0Cx8Y4zpBMwEVgIe7+bHccZxfwvUALYBV1lrk7zP2QKUBMKAQ0AvYCswAwgFgoEpwAPW2twCOhURERERkb8UmsAtIiIiIhKICs2QEhERERGRQKTALSIiIiKSjxS4RURERETykQK3iIiIiEg+UuAWEREREclHCtwiIn7OGJNrjFlmjFltjFlujHnAGHPK93djTIwx5tqCqlFEpChT4BYR8X9HrLUtrbVNgAuBS4BnTvOcGECBW0SkAGgebhERP2eMSbPWFj/mfm1gIRAN1AQ+B6K8D//HWjvHGDMPaARsBkYDw4BXgG5AOPCetfajAjsJEZEApsAtIuLnjg/c3m0HgYZAKuCx1mYYY+oBX1trY40x3YCHrLV9vfvfBlSw1v7XGBMOzMZZ2XdzQZ6LiEggCnG7ABERyRfG+zUUGG6MaQnkAvVPsn8voLkxZoD3fimgHk4PuIiInAMFbhGRAOMdUpIL7MMZy70XaIFz3U7GyZ4G3G2t/aNAihQRKUJ00aSISAAxxpQHPgSGW2fMYClgt7XWA9wABHt3TQVKHPPUP4A7jTGh3nbqG2OiEBGRc6YebhER/1fMGLMMZ/hIDs5Fkm96H3sf+MEYcxUQB6R7t68Acowxy4HPgHdwZi5ZYowxwH6gX8GULyIS2HTRpIiIiIhIPtKQEhERERGRfKTALSIiIiKSjxS4RURERETykQK3iIiIiEg+UuAWEREREclHCtwiIiIiIvlIgVtEREREJB/9P78Adpc+9eSRAAAAAElFTkSuQmCC\n",
      "text/plain": [
       "<Figure size 864x576 with 1 Axes>"
      ]
     },
     "metadata": {
      "needs_background": "light"
     },
     "output_type": "display_data"
    }
   ],
   "source": [
    "df[\"Spending\"].iloc[-12:].plot(figsize=(12,8),legend=True)\n",
    "df_forecast1[\"Spending_forecast\"].plot(legend=True)"
   ]
  },
  {
   "cell_type": "code",
   "execution_count": 38,
   "id": "3afcd46b",
   "metadata": {},
   "outputs": [],
   "source": [
    "from statsmodels.tools.eval_measures import rmse"
   ]
  },
  {
   "cell_type": "code",
   "execution_count": 40,
   "id": "7272778b",
   "metadata": {},
   "outputs": [
    {
     "data": {
      "text/plain": [
       "43.71049653558893"
      ]
     },
     "execution_count": 40,
     "metadata": {},
     "output_type": "execute_result"
    }
   ],
   "source": [
    "rmse(df[\"Money\"].iloc[-12:],df_forecast1[\"Money_forecast\"])"
   ]
  },
  {
   "cell_type": "code",
   "execution_count": 41,
   "id": "4a0a1efa",
   "metadata": {},
   "outputs": [
    {
     "data": {
      "text/plain": [
       "12034.008333333333"
      ]
     },
     "execution_count": 41,
     "metadata": {},
     "output_type": "execute_result"
    }
   ],
   "source": [
    "df[\"Money\"].iloc[-12:].mean()"
   ]
  },
  {
   "cell_type": "code",
   "execution_count": 42,
   "id": "f1aed258",
   "metadata": {},
   "outputs": [
    {
     "data": {
      "text/plain": [
       "12056.037161189037"
      ]
     },
     "execution_count": 42,
     "metadata": {},
     "output_type": "execute_result"
    }
   ],
   "source": [
    "df_forecast1[\"Money_forecast\"].mean()"
   ]
  },
  {
   "cell_type": "code",
   "execution_count": 43,
   "id": "2a03d5d5",
   "metadata": {},
   "outputs": [
    {
     "data": {
      "text/plain": [
       "37.00117516940808"
      ]
     },
     "execution_count": 43,
     "metadata": {},
     "output_type": "execute_result"
    }
   ],
   "source": [
    "rmse(df[\"Spending\"].iloc[-12:],df_forecast1[\"Spending_forecast\"])"
   ]
  },
  {
   "cell_type": "code",
   "execution_count": 44,
   "id": "91bc5c8a",
   "metadata": {},
   "outputs": [
    {
     "data": {
      "text/plain": [
       "12294.533333333333"
      ]
     },
     "execution_count": 44,
     "metadata": {},
     "output_type": "execute_result"
    }
   ],
   "source": [
    "df[\"Spending\"].iloc[-12:].mean()"
   ]
  },
  {
   "cell_type": "code",
   "execution_count": 45,
   "id": "7c47e6a2",
   "metadata": {},
   "outputs": [
    {
     "data": {
      "text/plain": [
       "12289.667735930632"
      ]
     },
     "execution_count": 45,
     "metadata": {},
     "output_type": "execute_result"
    }
   ],
   "source": [
    "df_forecast1[\"Spending_forecast\"].mean()"
   ]
  },
  {
   "cell_type": "markdown",
   "id": "06f831d0",
   "metadata": {},
   "source": [
    "VARMA:\n"
   ]
  },
  {
   "cell_type": "code",
   "execution_count": 46,
   "id": "49018156",
   "metadata": {},
   "outputs": [],
   "source": [
    "from pmdarima import auto_arima"
   ]
  },
  {
   "cell_type": "code",
   "execution_count": 47,
   "id": "3677807a",
   "metadata": {},
   "outputs": [
    {
     "data": {
      "text/plain": [
       "ARIMA(maxiter=1000, order=(1, 2, 1), scoring_args={}, suppress_warnings=True,\n",
       "      with_intercept=False)"
      ]
     },
     "execution_count": 47,
     "metadata": {},
     "output_type": "execute_result"
    }
   ],
   "source": [
    "auto_arima(df['Money'],maxiter=1000)"
   ]
  },
  {
   "cell_type": "code",
   "execution_count": 48,
   "id": "3ff9be5b",
   "metadata": {},
   "outputs": [
    {
     "data": {
      "text/plain": [
       "ARIMA(maxiter=1000, order=(1, 1, 2), scoring_args={}, suppress_warnings=True)"
      ]
     },
     "execution_count": 48,
     "metadata": {},
     "output_type": "execute_result"
    }
   ],
   "source": [
    "auto_arima(df['Spending'],maxiter=1000)"
   ]
  },
  {
   "cell_type": "code",
   "execution_count": 49,
   "id": "9a346c7a",
   "metadata": {},
   "outputs": [
    {
     "data": {
      "text/html": [
       "<div>\n",
       "<style scoped>\n",
       "    .dataframe tbody tr th:only-of-type {\n",
       "        vertical-align: middle;\n",
       "    }\n",
       "\n",
       "    .dataframe tbody tr th {\n",
       "        vertical-align: top;\n",
       "    }\n",
       "\n",
       "    .dataframe thead th {\n",
       "        text-align: right;\n",
       "    }\n",
       "</style>\n",
       "<table border=\"1\" class=\"dataframe\">\n",
       "  <thead>\n",
       "    <tr style=\"text-align: right;\">\n",
       "      <th></th>\n",
       "      <th>Money</th>\n",
       "      <th>Spending</th>\n",
       "    </tr>\n",
       "    <tr>\n",
       "      <th>Date</th>\n",
       "      <th></th>\n",
       "      <th></th>\n",
       "    </tr>\n",
       "  </thead>\n",
       "  <tbody>\n",
       "    <tr>\n",
       "      <th>1995-03-01</th>\n",
       "      <td>3.7</td>\n",
       "      <td>35.0</td>\n",
       "    </tr>\n",
       "    <tr>\n",
       "      <th>1995-04-01</th>\n",
       "      <td>6.9</td>\n",
       "      <td>-29.8</td>\n",
       "    </tr>\n",
       "    <tr>\n",
       "      <th>1995-05-01</th>\n",
       "      <td>16.9</td>\n",
       "      <td>38.1</td>\n",
       "    </tr>\n",
       "    <tr>\n",
       "      <th>1995-06-01</th>\n",
       "      <td>-0.3</td>\n",
       "      <td>1.5</td>\n",
       "    </tr>\n",
       "    <tr>\n",
       "      <th>1995-07-01</th>\n",
       "      <td>-6.2</td>\n",
       "      <td>-51.7</td>\n",
       "    </tr>\n",
       "  </tbody>\n",
       "</table>\n",
       "</div>"
      ],
      "text/plain": [
       "            Money  Spending\n",
       "Date                       \n",
       "1995-03-01    3.7      35.0\n",
       "1995-04-01    6.9     -29.8\n",
       "1995-05-01   16.9      38.1\n",
       "1995-06-01   -0.3       1.5\n",
       "1995-07-01   -6.2     -51.7"
      ]
     },
     "execution_count": 49,
     "metadata": {},
     "output_type": "execute_result"
    }
   ],
   "source": [
    "df_transformed.head()"
   ]
  },
  {
   "cell_type": "code",
   "execution_count": 50,
   "id": "795a214f",
   "metadata": {},
   "outputs": [],
   "source": [
    "#lets fit the VARMA model\n",
    "from statsmodels.tsa.statespace.varmax import VARMAX"
   ]
  },
  {
   "cell_type": "code",
   "execution_count": 51,
   "id": "fb5a35e6",
   "metadata": {},
   "outputs": [
    {
     "name": "stderr",
     "output_type": "stream",
     "text": [
      "C:\\Users\\-Laykon\\AppData\\Roaming\\Python\\Python39\\site-packages\\statsmodels\\tsa\\statespace\\varmax.py:161: EstimationWarning: Estimation of VARMA(p,q) models is not generically robust, due especially to identification issues.\n",
      "  warn('Estimation of VARMA(p,q) models is not generically robust,'\n"
     ]
    },
    {
     "data": {
      "text/html": [
       "<table class=\"simpletable\">\n",
       "<caption>Statespace Model Results</caption>\n",
       "<tr>\n",
       "  <th>Dep. Variable:</th>   <td>['Money', 'Spending']</td> <th>  No. Observations:  </th>    <td>238</td>   \n",
       "</tr>\n",
       "<tr>\n",
       "  <th>Model:</th>                <td>VARMA(1,2)</td>       <th>  Log Likelihood     </th> <td>-2286.290</td>\n",
       "</tr>\n",
       "<tr>\n",
       "  <th></th>                      <td>+ intercept</td>      <th>  AIC                </th> <td>4606.579</td> \n",
       "</tr>\n",
       "<tr>\n",
       "  <th>Date:</th>              <td>Thu, 22 Dec 2022</td>    <th>  BIC                </th> <td>4665.608</td> \n",
       "</tr>\n",
       "<tr>\n",
       "  <th>Time:</th>                  <td>22:39:19</td>        <th>  HQIC               </th> <td>4630.369</td> \n",
       "</tr>\n",
       "<tr>\n",
       "  <th>Sample:</th>               <td>03-01-1995</td>       <th>                     </th>     <td> </td>    \n",
       "</tr>\n",
       "<tr>\n",
       "  <th></th>                     <td>- 12-01-2014</td>      <th>                     </th>     <td> </td>    \n",
       "</tr>\n",
       "<tr>\n",
       "  <th>Covariance Type:</th>          <td>opg</td>          <th>                     </th>     <td> </td>    \n",
       "</tr>\n",
       "</table>\n",
       "<table class=\"simpletable\">\n",
       "<tr>\n",
       "  <th>Ljung-Box (L1) (Q):</th>     <td>0.41, 0.00</td> <th>  Jarque-Bera (JB):  </th> <td>562.81, 125.91</td>\n",
       "</tr>\n",
       "<tr>\n",
       "  <th>Prob(Q):</th>                <td>0.52, 0.97</td> <th>  Prob(JB):          </th>   <td>0.00, 0.00</td>  \n",
       "</tr>\n",
       "<tr>\n",
       "  <th>Heteroskedasticity (H):</th> <td>5.66, 2.89</td> <th>  Skew:              </th>   <td>1.35, -0.35</td> \n",
       "</tr>\n",
       "<tr>\n",
       "  <th>Prob(H) (two-sided):</th>    <td>0.00, 0.00</td> <th>  Kurtosis:          </th>   <td>10.03, 6.49</td> \n",
       "</tr>\n",
       "</table>\n",
       "<table class=\"simpletable\">\n",
       "<caption>Results for equation Money</caption>\n",
       "<tr>\n",
       "         <td></td>           <th>coef</th>     <th>std err</th>      <th>z</th>      <th>P>|z|</th>  <th>[0.025</th>    <th>0.975]</th>  \n",
       "</tr>\n",
       "<tr>\n",
       "  <th>intercept</th>      <td>    0.1123</td> <td>    0.765</td> <td>    0.147</td> <td> 0.883</td> <td>   -1.388</td> <td>    1.612</td>\n",
       "</tr>\n",
       "<tr>\n",
       "  <th>L1.Money</th>       <td>   -1.1199</td> <td>    4.132</td> <td>   -0.271</td> <td> 0.786</td> <td>   -9.218</td> <td>    6.979</td>\n",
       "</tr>\n",
       "<tr>\n",
       "  <th>L1.Spending</th>    <td>    2.0445</td> <td>    7.022</td> <td>    0.291</td> <td> 0.771</td> <td>  -11.719</td> <td>   15.808</td>\n",
       "</tr>\n",
       "<tr>\n",
       "  <th>L1.e(Money)</th>    <td>    0.3558</td> <td>    4.124</td> <td>    0.086</td> <td> 0.931</td> <td>   -7.726</td> <td>    8.438</td>\n",
       "</tr>\n",
       "<tr>\n",
       "  <th>L1.e(Spending)</th> <td>   -2.1647</td> <td>    7.025</td> <td>   -0.308</td> <td> 0.758</td> <td>  -15.933</td> <td>   11.603</td>\n",
       "</tr>\n",
       "<tr>\n",
       "  <th>L2.e(Money)</th>    <td>   -1.3569</td> <td>    4.114</td> <td>   -0.330</td> <td> 0.742</td> <td>   -9.421</td> <td>    6.707</td>\n",
       "</tr>\n",
       "<tr>\n",
       "  <th>L2.e(Spending)</th> <td>    1.9065</td> <td>    6.196</td> <td>    0.308</td> <td> 0.758</td> <td>  -10.238</td> <td>   14.051</td>\n",
       "</tr>\n",
       "</table>\n",
       "<table class=\"simpletable\">\n",
       "<caption>Results for equation Spending</caption>\n",
       "<tr>\n",
       "         <td></td>           <th>coef</th>     <th>std err</th>      <th>z</th>      <th>P>|z|</th>  <th>[0.025</th>    <th>0.975]</th>  \n",
       "</tr>\n",
       "<tr>\n",
       "  <th>intercept</th>      <td>    0.0948</td> <td>    0.141</td> <td>    0.674</td> <td> 0.501</td> <td>   -0.181</td> <td>    0.370</td>\n",
       "</tr>\n",
       "<tr>\n",
       "  <th>L1.Money</th>       <td>   -0.3174</td> <td>    2.567</td> <td>   -0.124</td> <td> 0.902</td> <td>   -5.348</td> <td>    4.713</td>\n",
       "</tr>\n",
       "<tr>\n",
       "  <th>L1.Spending</th>    <td>    0.6785</td> <td>    4.171</td> <td>    0.163</td> <td> 0.871</td> <td>   -7.497</td> <td>    8.854</td>\n",
       "</tr>\n",
       "<tr>\n",
       "  <th>L1.e(Money)</th>    <td>    0.4393</td> <td>    2.624</td> <td>    0.167</td> <td> 0.867</td> <td>   -4.705</td> <td>    5.583</td>\n",
       "</tr>\n",
       "<tr>\n",
       "  <th>L1.e(Spending)</th> <td>   -1.6374</td> <td>    4.150</td> <td>   -0.395</td> <td> 0.693</td> <td>   -9.772</td> <td>    6.497</td>\n",
       "</tr>\n",
       "<tr>\n",
       "  <th>L2.e(Money)</th>    <td>   -0.4380</td> <td>    2.631</td> <td>   -0.166</td> <td> 0.868</td> <td>   -5.594</td> <td>    4.718</td>\n",
       "</tr>\n",
       "<tr>\n",
       "  <th>L2.e(Spending)</th> <td>    0.6711</td> <td>    3.642</td> <td>    0.184</td> <td> 0.854</td> <td>   -6.468</td> <td>    7.810</td>\n",
       "</tr>\n",
       "</table>\n",
       "<table class=\"simpletable\">\n",
       "<caption>Error covariance matrix</caption>\n",
       "<tr>\n",
       "             <td></td>                <th>coef</th>     <th>std err</th>      <th>z</th>      <th>P>|z|</th>  <th>[0.025</th>    <th>0.975]</th>  \n",
       "</tr>\n",
       "<tr>\n",
       "  <th>sqrt.var.Money</th>          <td>   25.8878</td> <td>    1.552</td> <td>   16.675</td> <td> 0.000</td> <td>   22.845</td> <td>   28.931</td>\n",
       "</tr>\n",
       "<tr>\n",
       "  <th>sqrt.cov.Money.Spending</th> <td>  -10.0101</td> <td>    1.938</td> <td>   -5.165</td> <td> 0.000</td> <td>  -13.809</td> <td>   -6.212</td>\n",
       "</tr>\n",
       "<tr>\n",
       "  <th>sqrt.var.Spending</th>       <td>   34.0551</td> <td>    1.290</td> <td>   26.403</td> <td> 0.000</td> <td>   31.527</td> <td>   36.583</td>\n",
       "</tr>\n",
       "</table><br/><br/>Warnings:<br/>[1] Covariance matrix calculated using the outer product of gradients (complex-step)."
      ],
      "text/plain": [
       "<class 'statsmodels.iolib.summary.Summary'>\n",
       "\"\"\"\n",
       "                             Statespace Model Results                            \n",
       "=================================================================================\n",
       "Dep. Variable:     ['Money', 'Spending']   No. Observations:                  238\n",
       "Model:                        VARMA(1,2)   Log Likelihood               -2286.290\n",
       "                             + intercept   AIC                           4606.579\n",
       "Date:                   Thu, 22 Dec 2022   BIC                           4665.608\n",
       "Time:                           22:39:19   HQIC                          4630.369\n",
       "Sample:                       03-01-1995                                         \n",
       "                            - 12-01-2014                                         \n",
       "Covariance Type:                     opg                                         \n",
       "===================================================================================\n",
       "Ljung-Box (L1) (Q):             0.41, 0.00   Jarque-Bera (JB):       562.81, 125.91\n",
       "Prob(Q):                        0.52, 0.97   Prob(JB):                   0.00, 0.00\n",
       "Heteroskedasticity (H):         5.66, 2.89   Skew:                      1.35, -0.35\n",
       "Prob(H) (two-sided):            0.00, 0.00   Kurtosis:                  10.03, 6.49\n",
       "                            Results for equation Money                            \n",
       "==================================================================================\n",
       "                     coef    std err          z      P>|z|      [0.025      0.975]\n",
       "----------------------------------------------------------------------------------\n",
       "intercept          0.1123      0.765      0.147      0.883      -1.388       1.612\n",
       "L1.Money          -1.1199      4.132     -0.271      0.786      -9.218       6.979\n",
       "L1.Spending        2.0445      7.022      0.291      0.771     -11.719      15.808\n",
       "L1.e(Money)        0.3558      4.124      0.086      0.931      -7.726       8.438\n",
       "L1.e(Spending)    -2.1647      7.025     -0.308      0.758     -15.933      11.603\n",
       "L2.e(Money)       -1.3569      4.114     -0.330      0.742      -9.421       6.707\n",
       "L2.e(Spending)     1.9065      6.196      0.308      0.758     -10.238      14.051\n",
       "                          Results for equation Spending                           \n",
       "==================================================================================\n",
       "                     coef    std err          z      P>|z|      [0.025      0.975]\n",
       "----------------------------------------------------------------------------------\n",
       "intercept          0.0948      0.141      0.674      0.501      -0.181       0.370\n",
       "L1.Money          -0.3174      2.567     -0.124      0.902      -5.348       4.713\n",
       "L1.Spending        0.6785      4.171      0.163      0.871      -7.497       8.854\n",
       "L1.e(Money)        0.4393      2.624      0.167      0.867      -4.705       5.583\n",
       "L1.e(Spending)    -1.6374      4.150     -0.395      0.693      -9.772       6.497\n",
       "L2.e(Money)       -0.4380      2.631     -0.166      0.868      -5.594       4.718\n",
       "L2.e(Spending)     0.6711      3.642      0.184      0.854      -6.468       7.810\n",
       "                                  Error covariance matrix                                  \n",
       "===========================================================================================\n",
       "                              coef    std err          z      P>|z|      [0.025      0.975]\n",
       "-------------------------------------------------------------------------------------------\n",
       "sqrt.var.Money             25.8878      1.552     16.675      0.000      22.845      28.931\n",
       "sqrt.cov.Money.Spending   -10.0101      1.938     -5.165      0.000     -13.809      -6.212\n",
       "sqrt.var.Spending          34.0551      1.290     26.403      0.000      31.527      36.583\n",
       "===========================================================================================\n",
       "\n",
       "Warnings:\n",
       "[1] Covariance matrix calculated using the outer product of gradients (complex-step).\n",
       "\"\"\""
      ]
     },
     "execution_count": 51,
     "metadata": {},
     "output_type": "execute_result"
    }
   ],
   "source": [
    "model1=VARMAX(train,order=(1,2),trend=\"c\")\n",
    "result1=model1.fit(maxiter=1000,disp=False)\n",
    "result1.summary()"
   ]
  },
  {
   "cell_type": "code",
   "execution_count": 53,
   "id": "2d4723a2",
   "metadata": {},
   "outputs": [],
   "source": [
    "df_forecast2=result1.forecast(12)"
   ]
  },
  {
   "cell_type": "code",
   "execution_count": 54,
   "id": "5bfffd97",
   "metadata": {},
   "outputs": [
    {
     "data": {
      "text/html": [
       "<div>\n",
       "<style scoped>\n",
       "    .dataframe tbody tr th:only-of-type {\n",
       "        vertical-align: middle;\n",
       "    }\n",
       "\n",
       "    .dataframe tbody tr th {\n",
       "        vertical-align: top;\n",
       "    }\n",
       "\n",
       "    .dataframe thead th {\n",
       "        text-align: right;\n",
       "    }\n",
       "</style>\n",
       "<table border=\"1\" class=\"dataframe\">\n",
       "  <thead>\n",
       "    <tr style=\"text-align: right;\">\n",
       "      <th></th>\n",
       "      <th>Money</th>\n",
       "      <th>Spending</th>\n",
       "    </tr>\n",
       "  </thead>\n",
       "  <tbody>\n",
       "    <tr>\n",
       "      <th>2015-01-01</th>\n",
       "      <td>-12.425533</td>\n",
       "      <td>37.861297</td>\n",
       "    </tr>\n",
       "    <tr>\n",
       "      <th>2015-02-01</th>\n",
       "      <td>-10.993571</td>\n",
       "      <td>-5.298484</td>\n",
       "    </tr>\n",
       "    <tr>\n",
       "      <th>2015-03-01</th>\n",
       "      <td>1.590820</td>\n",
       "      <td>-0.010787</td>\n",
       "    </tr>\n",
       "    <tr>\n",
       "      <th>2015-04-01</th>\n",
       "      <td>-1.691265</td>\n",
       "      <td>-0.417505</td>\n",
       "    </tr>\n",
       "    <tr>\n",
       "      <th>2015-05-01</th>\n",
       "      <td>1.152672</td>\n",
       "      <td>0.348306</td>\n",
       "    </tr>\n",
       "    <tr>\n",
       "      <th>2015-06-01</th>\n",
       "      <td>-0.466439</td>\n",
       "      <td>-0.034787</td>\n",
       "    </tr>\n",
       "    <tr>\n",
       "      <th>2015-07-01</th>\n",
       "      <td>0.563504</td>\n",
       "      <td>0.219207</td>\n",
       "    </tr>\n",
       "    <tr>\n",
       "      <th>2015-08-01</th>\n",
       "      <td>-0.070597</td>\n",
       "      <td>0.064627</td>\n",
       "    </tr>\n",
       "    <tr>\n",
       "      <th>2015-09-01</th>\n",
       "      <td>0.323469</td>\n",
       "      <td>0.161015</td>\n",
       "    </tr>\n",
       "    <tr>\n",
       "      <th>2015-10-01</th>\n",
       "      <td>0.079236</td>\n",
       "      <td>0.101334</td>\n",
       "    </tr>\n",
       "    <tr>\n",
       "      <th>2015-11-01</th>\n",
       "      <td>0.230724</td>\n",
       "      <td>0.138362</td>\n",
       "    </tr>\n",
       "    <tr>\n",
       "      <th>2015-12-01</th>\n",
       "      <td>0.136783</td>\n",
       "      <td>0.115402</td>\n",
       "    </tr>\n",
       "  </tbody>\n",
       "</table>\n",
       "</div>"
      ],
      "text/plain": [
       "                Money   Spending\n",
       "2015-01-01 -12.425533  37.861297\n",
       "2015-02-01 -10.993571  -5.298484\n",
       "2015-03-01   1.590820  -0.010787\n",
       "2015-04-01  -1.691265  -0.417505\n",
       "2015-05-01   1.152672   0.348306\n",
       "2015-06-01  -0.466439  -0.034787\n",
       "2015-07-01   0.563504   0.219207\n",
       "2015-08-01  -0.070597   0.064627\n",
       "2015-09-01   0.323469   0.161015\n",
       "2015-10-01   0.079236   0.101334\n",
       "2015-11-01   0.230724   0.138362\n",
       "2015-12-01   0.136783   0.115402"
      ]
     },
     "execution_count": 54,
     "metadata": {},
     "output_type": "execute_result"
    }
   ],
   "source": [
    "df_forecast2"
   ]
  },
  {
   "cell_type": "code",
   "execution_count": 55,
   "id": "19fe8e4e",
   "metadata": {},
   "outputs": [
    {
     "data": {
      "text/html": [
       "<div>\n",
       "<style scoped>\n",
       "    .dataframe tbody tr th:only-of-type {\n",
       "        vertical-align: middle;\n",
       "    }\n",
       "\n",
       "    .dataframe tbody tr th {\n",
       "        vertical-align: top;\n",
       "    }\n",
       "\n",
       "    .dataframe thead th {\n",
       "        text-align: right;\n",
       "    }\n",
       "</style>\n",
       "<table border=\"1\" class=\"dataframe\">\n",
       "  <thead>\n",
       "    <tr style=\"text-align: right;\">\n",
       "      <th></th>\n",
       "      <th>Money</th>\n",
       "      <th>Spending</th>\n",
       "    </tr>\n",
       "  </thead>\n",
       "  <tbody>\n",
       "    <tr>\n",
       "      <th>2015-01-01</th>\n",
       "      <td>-12.425533</td>\n",
       "      <td>37.861297</td>\n",
       "    </tr>\n",
       "    <tr>\n",
       "      <th>2015-02-01</th>\n",
       "      <td>-10.993571</td>\n",
       "      <td>-5.298484</td>\n",
       "    </tr>\n",
       "    <tr>\n",
       "      <th>2015-03-01</th>\n",
       "      <td>1.590820</td>\n",
       "      <td>-0.010787</td>\n",
       "    </tr>\n",
       "    <tr>\n",
       "      <th>2015-04-01</th>\n",
       "      <td>-1.691265</td>\n",
       "      <td>-0.417505</td>\n",
       "    </tr>\n",
       "    <tr>\n",
       "      <th>2015-05-01</th>\n",
       "      <td>1.152672</td>\n",
       "      <td>0.348306</td>\n",
       "    </tr>\n",
       "    <tr>\n",
       "      <th>2015-06-01</th>\n",
       "      <td>-0.466439</td>\n",
       "      <td>-0.034787</td>\n",
       "    </tr>\n",
       "    <tr>\n",
       "      <th>2015-07-01</th>\n",
       "      <td>0.563504</td>\n",
       "      <td>0.219207</td>\n",
       "    </tr>\n",
       "    <tr>\n",
       "      <th>2015-08-01</th>\n",
       "      <td>-0.070597</td>\n",
       "      <td>0.064627</td>\n",
       "    </tr>\n",
       "    <tr>\n",
       "      <th>2015-09-01</th>\n",
       "      <td>0.323469</td>\n",
       "      <td>0.161015</td>\n",
       "    </tr>\n",
       "    <tr>\n",
       "      <th>2015-10-01</th>\n",
       "      <td>0.079236</td>\n",
       "      <td>0.101334</td>\n",
       "    </tr>\n",
       "    <tr>\n",
       "      <th>2015-11-01</th>\n",
       "      <td>0.230724</td>\n",
       "      <td>0.138362</td>\n",
       "    </tr>\n",
       "    <tr>\n",
       "      <th>2015-12-01</th>\n",
       "      <td>0.136783</td>\n",
       "      <td>0.115402</td>\n",
       "    </tr>\n",
       "  </tbody>\n",
       "</table>\n",
       "</div>"
      ],
      "text/plain": [
       "                Money   Spending\n",
       "2015-01-01 -12.425533  37.861297\n",
       "2015-02-01 -10.993571  -5.298484\n",
       "2015-03-01   1.590820  -0.010787\n",
       "2015-04-01  -1.691265  -0.417505\n",
       "2015-05-01   1.152672   0.348306\n",
       "2015-06-01  -0.466439  -0.034787\n",
       "2015-07-01   0.563504   0.219207\n",
       "2015-08-01  -0.070597   0.064627\n",
       "2015-09-01   0.323469   0.161015\n",
       "2015-10-01   0.079236   0.101334\n",
       "2015-11-01   0.230724   0.138362\n",
       "2015-12-01   0.136783   0.115402"
      ]
     },
     "execution_count": 55,
     "metadata": {},
     "output_type": "execute_result"
    }
   ],
   "source": [
    "df_forecast2"
   ]
  },
  {
   "cell_type": "code",
   "execution_count": 56,
   "id": "854130e1",
   "metadata": {},
   "outputs": [],
   "source": [
    "step1_money=(df[\"Money\"].iloc[-13]-df[\"Money\"].iloc[-14])+df_forecast2[\"Money\"].cumsum()"
   ]
  },
  {
   "cell_type": "code",
   "execution_count": 57,
   "id": "ca9723a7",
   "metadata": {},
   "outputs": [],
   "source": [
    "df_forecast2[\"Money_forecast\"]=df[\"Money\"].iloc[-13]+step1_money.cumsum()"
   ]
  },
  {
   "cell_type": "code",
   "execution_count": 58,
   "id": "c3ee1d34",
   "metadata": {},
   "outputs": [],
   "source": [
    "step1_spending=(df[\"Spending\"].iloc[-13]-df[\"Spending\"].iloc[-14])+df_forecast2[\"Spending\"].cumsum()\n",
    "df_forecast2[\"Spending_forecast\"]=df[\"Spending\"].iloc[-13]+step1_spending.cumsum()"
   ]
  },
  {
   "cell_type": "code",
   "execution_count": 59,
   "id": "f666c156",
   "metadata": {},
   "outputs": [
    {
     "data": {
      "text/html": [
       "<div>\n",
       "<style scoped>\n",
       "    .dataframe tbody tr th:only-of-type {\n",
       "        vertical-align: middle;\n",
       "    }\n",
       "\n",
       "    .dataframe tbody tr th {\n",
       "        vertical-align: top;\n",
       "    }\n",
       "\n",
       "    .dataframe thead th {\n",
       "        text-align: right;\n",
       "    }\n",
       "</style>\n",
       "<table border=\"1\" class=\"dataframe\">\n",
       "  <thead>\n",
       "    <tr style=\"text-align: right;\">\n",
       "      <th></th>\n",
       "      <th>Money</th>\n",
       "      <th>Spending</th>\n",
       "      <th>Money_forecast</th>\n",
       "      <th>Spending_forecast</th>\n",
       "    </tr>\n",
       "  </thead>\n",
       "  <tbody>\n",
       "    <tr>\n",
       "      <th>2015-01-01</th>\n",
       "      <td>-12.425533</td>\n",
       "      <td>37.861297</td>\n",
       "      <td>11736.274467</td>\n",
       "      <td>12110.461297</td>\n",
       "    </tr>\n",
       "    <tr>\n",
       "      <th>2015-02-01</th>\n",
       "      <td>-10.993571</td>\n",
       "      <td>-5.298484</td>\n",
       "      <td>11791.455363</td>\n",
       "      <td>12153.624110</td>\n",
       "    </tr>\n",
       "    <tr>\n",
       "      <th>2015-03-01</th>\n",
       "      <td>1.590820</td>\n",
       "      <td>-0.010787</td>\n",
       "      <td>11848.227079</td>\n",
       "      <td>12196.776136</td>\n",
       "    </tr>\n",
       "    <tr>\n",
       "      <th>2015-04-01</th>\n",
       "      <td>-1.691265</td>\n",
       "      <td>-0.417505</td>\n",
       "      <td>11903.307530</td>\n",
       "      <td>12239.510657</td>\n",
       "    </tr>\n",
       "    <tr>\n",
       "      <th>2015-05-01</th>\n",
       "      <td>1.152672</td>\n",
       "      <td>0.348306</td>\n",
       "      <td>11959.540653</td>\n",
       "      <td>12282.593484</td>\n",
       "    </tr>\n",
       "    <tr>\n",
       "      <th>2015-06-01</th>\n",
       "      <td>-0.466439</td>\n",
       "      <td>-0.034787</td>\n",
       "      <td>12015.307337</td>\n",
       "      <td>12325.641523</td>\n",
       "    </tr>\n",
       "    <tr>\n",
       "      <th>2015-07-01</th>\n",
       "      <td>0.563504</td>\n",
       "      <td>0.219207</td>\n",
       "      <td>12071.637525</td>\n",
       "      <td>12368.908770</td>\n",
       "    </tr>\n",
       "    <tr>\n",
       "      <th>2015-08-01</th>\n",
       "      <td>-0.070597</td>\n",
       "      <td>0.064627</td>\n",
       "      <td>12127.897116</td>\n",
       "      <td>12412.240645</td>\n",
       "    </tr>\n",
       "    <tr>\n",
       "      <th>2015-09-01</th>\n",
       "      <td>0.323469</td>\n",
       "      <td>0.161015</td>\n",
       "      <td>12184.480177</td>\n",
       "      <td>12455.733534</td>\n",
       "    </tr>\n",
       "    <tr>\n",
       "      <th>2015-10-01</th>\n",
       "      <td>0.079236</td>\n",
       "      <td>0.101334</td>\n",
       "      <td>12241.142474</td>\n",
       "      <td>12499.327758</td>\n",
       "    </tr>\n",
       "    <tr>\n",
       "      <th>2015-11-01</th>\n",
       "      <td>0.230724</td>\n",
       "      <td>0.138362</td>\n",
       "      <td>12298.035495</td>\n",
       "      <td>12543.060344</td>\n",
       "    </tr>\n",
       "    <tr>\n",
       "      <th>2015-12-01</th>\n",
       "      <td>0.136783</td>\n",
       "      <td>0.115402</td>\n",
       "      <td>12355.065298</td>\n",
       "      <td>12586.908332</td>\n",
       "    </tr>\n",
       "  </tbody>\n",
       "</table>\n",
       "</div>"
      ],
      "text/plain": [
       "                Money   Spending  Money_forecast  Spending_forecast\n",
       "2015-01-01 -12.425533  37.861297    11736.274467       12110.461297\n",
       "2015-02-01 -10.993571  -5.298484    11791.455363       12153.624110\n",
       "2015-03-01   1.590820  -0.010787    11848.227079       12196.776136\n",
       "2015-04-01  -1.691265  -0.417505    11903.307530       12239.510657\n",
       "2015-05-01   1.152672   0.348306    11959.540653       12282.593484\n",
       "2015-06-01  -0.466439  -0.034787    12015.307337       12325.641523\n",
       "2015-07-01   0.563504   0.219207    12071.637525       12368.908770\n",
       "2015-08-01  -0.070597   0.064627    12127.897116       12412.240645\n",
       "2015-09-01   0.323469   0.161015    12184.480177       12455.733534\n",
       "2015-10-01   0.079236   0.101334    12241.142474       12499.327758\n",
       "2015-11-01   0.230724   0.138362    12298.035495       12543.060344\n",
       "2015-12-01   0.136783   0.115402    12355.065298       12586.908332"
      ]
     },
     "execution_count": 59,
     "metadata": {},
     "output_type": "execute_result"
    }
   ],
   "source": [
    "df_forecast2"
   ]
  },
  {
   "cell_type": "code",
   "execution_count": 58,
   "id": "8fefc694",
   "metadata": {},
   "outputs": [
    {
     "data": {
      "text/plain": [
       "<AxesSubplot:xlabel='Date'>"
      ]
     },
     "execution_count": 58,
     "metadata": {},
     "output_type": "execute_result"
    },
    {
     "data": {
      "image/png": "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\n",
      "text/plain": [
       "<Figure size 864x504 with 1 Axes>"
      ]
     },
     "metadata": {
      "needs_background": "light"
     },
     "output_type": "display_data"
    }
   ],
   "source": [
    "df[\"Money\"].iloc[-12:].plot(figsize=(12,7),legend=True)\n",
    "df_forecast2[\"Money_forecast\"].plot(legend=True)"
   ]
  },
  {
   "cell_type": "code",
   "execution_count": 60,
   "id": "88e3f62f",
   "metadata": {},
   "outputs": [
    {
     "data": {
      "text/plain": [
       "<AxesSubplot:xlabel='Date'>"
      ]
     },
     "execution_count": 60,
     "metadata": {},
     "output_type": "execute_result"
    },
    {
     "data": {
      "image/png": "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\n",
      "text/plain": [
       "<Figure size 864x504 with 1 Axes>"
      ]
     },
     "metadata": {
      "needs_background": "light"
     },
     "output_type": "display_data"
    }
   ],
   "source": [
    "df[\"Spending\"].iloc[-12:].plot(figsize=(12,7),legend=True)\n",
    "df_forecast2[\"Spending_forecast\"].plot(legend=True)"
   ]
  },
  {
   "cell_type": "code",
   "execution_count": 61,
   "id": "8a4881c6",
   "metadata": {},
   "outputs": [
    {
     "data": {
      "text/plain": [
       "30.547146542247194"
      ]
     },
     "execution_count": 61,
     "metadata": {},
     "output_type": "execute_result"
    }
   ],
   "source": [
    "rmse(df[\"Money\"].iloc[-12:],df_forecast2[\"Money_forecast\"])"
   ]
  },
  {
   "cell_type": "code",
   "execution_count": 62,
   "id": "b63baf70",
   "metadata": {},
   "outputs": [
    {
     "data": {
      "text/plain": [
       "62.7374990186183"
      ]
     },
     "execution_count": 62,
     "metadata": {},
     "output_type": "execute_result"
    }
   ],
   "source": [
    "rmse(df[\"Spending\"].iloc[-12:],df_forecast2[\"Spending_forecast\"])"
   ]
  },
  {
   "cell_type": "markdown",
   "id": "afcd9534",
   "metadata": {},
   "source": [
    "ARIMA:"
   ]
  },
  {
   "cell_type": "code",
   "execution_count": 63,
   "id": "ed59ccc9",
   "metadata": {},
   "outputs": [],
   "source": [
    "from statsmodels.tsa.arima.model import ARIMA"
   ]
  },
  {
   "cell_type": "code",
   "execution_count": 64,
   "id": "c15d59fb",
   "metadata": {},
   "outputs": [
    {
     "data": {
      "text/plain": [
       "ARIMA(maxiter=1000, order=(1, 0, 1), scoring_args={}, suppress_warnings=True,\n",
       "      with_intercept=False)"
      ]
     },
     "execution_count": 64,
     "metadata": {},
     "output_type": "execute_result"
    }
   ],
   "source": [
    "auto_arima(df_transformed['Money'],maxiter=1000)"
   ]
  },
  {
   "cell_type": "code",
   "execution_count": 65,
   "id": "3e90ae27",
   "metadata": {},
   "outputs": [
    {
     "data": {
      "text/plain": [
       "ARIMA(maxiter=1000, order=(0, 0, 1), scoring_args={}, suppress_warnings=True,\n",
       "      with_intercept=False)"
      ]
     },
     "execution_count": 65,
     "metadata": {},
     "output_type": "execute_result"
    }
   ],
   "source": [
    "auto_arima(df_transformed['Spending'],maxiter=1000)"
   ]
  },
  {
   "cell_type": "code",
   "execution_count": 66,
   "id": "0d16e733",
   "metadata": {},
   "outputs": [],
   "source": [
    "model3=ARIMA(df_transformed['Money'],order=(1,0,1))"
   ]
  },
  {
   "cell_type": "code",
   "execution_count": 67,
   "id": "ea08eba1",
   "metadata": {},
   "outputs": [],
   "source": [
    "fitted_model_money=model3.fit()"
   ]
  },
  {
   "cell_type": "code",
   "execution_count": 69,
   "id": "3ac133ed",
   "metadata": {},
   "outputs": [],
   "source": [
    "forcasted_money=fitted_model_money.forecast(12)"
   ]
  },
  {
   "cell_type": "code",
   "execution_count": 70,
   "id": "fa7af684",
   "metadata": {},
   "outputs": [],
   "source": [
    "model3=ARIMA(df_transformed['Money'],order=(1,0,1))\n",
    "fitted_model_spending=model3.fit()\n",
    "forcasted_spending=fitted_model_spending.forecast(12)"
   ]
  },
  {
   "cell_type": "code",
   "execution_count": 72,
   "id": "bbd53e36",
   "metadata": {},
   "outputs": [],
   "source": [
    "df_forcasted3=pd.DataFrame({\"money\":forcasted_money,\"spending\":forcasted_spending}).set_index(index)"
   ]
  },
  {
   "cell_type": "code",
   "execution_count": 73,
   "id": "cd430980",
   "metadata": {},
   "outputs": [],
   "source": [
    "step1_money_arima=(df[\"Money\"].iloc[-13]-df[\"Money\"].iloc[-14])+df_forcasted3[\"money\"].cumsum()\n",
    "df_forcasted3[\"Money_forecast\"]=df[\"Money\"].iloc[-13]+step1_money_arima.cumsum()"
   ]
  },
  {
   "cell_type": "code",
   "execution_count": 74,
   "id": "2350a161",
   "metadata": {},
   "outputs": [],
   "source": [
    "step1_spending_arima=(df[\"Spending\"].iloc[-13]-df[\"Spending\"].iloc[-14])+df_forcasted3[\"spending\"].cumsum()\n",
    "df_forcasted3[\"Spending_forecast\"]=df[\"Spending\"].iloc[-13]+step1_spending_arima.cumsum()"
   ]
  },
  {
   "cell_type": "code",
   "execution_count": 75,
   "id": "92f468d4",
   "metadata": {},
   "outputs": [
    {
     "data": {
      "text/html": [
       "<div>\n",
       "<style scoped>\n",
       "    .dataframe tbody tr th:only-of-type {\n",
       "        vertical-align: middle;\n",
       "    }\n",
       "\n",
       "    .dataframe tbody tr th {\n",
       "        vertical-align: top;\n",
       "    }\n",
       "\n",
       "    .dataframe thead th {\n",
       "        text-align: right;\n",
       "    }\n",
       "</style>\n",
       "<table border=\"1\" class=\"dataframe\">\n",
       "  <thead>\n",
       "    <tr style=\"text-align: right;\">\n",
       "      <th></th>\n",
       "      <th>money</th>\n",
       "      <th>spending</th>\n",
       "      <th>Money_forecast</th>\n",
       "      <th>Spending_forecast</th>\n",
       "    </tr>\n",
       "  </thead>\n",
       "  <tbody>\n",
       "    <tr>\n",
       "      <th>2015-01-01</th>\n",
       "      <td>-0.465976</td>\n",
       "      <td>-0.465976</td>\n",
       "      <td>11748.234024</td>\n",
       "      <td>12072.134024</td>\n",
       "    </tr>\n",
       "    <tr>\n",
       "      <th>2015-02-01</th>\n",
       "      <td>0.024050</td>\n",
       "      <td>0.024050</td>\n",
       "      <td>11826.392097</td>\n",
       "      <td>12082.292097</td>\n",
       "    </tr>\n",
       "    <tr>\n",
       "      <th>2015-03-01</th>\n",
       "      <td>0.142051</td>\n",
       "      <td>0.142051</td>\n",
       "      <td>11904.692221</td>\n",
       "      <td>12092.592221</td>\n",
       "    </tr>\n",
       "    <tr>\n",
       "      <th>2015-04-01</th>\n",
       "      <td>0.170467</td>\n",
       "      <td>0.170467</td>\n",
       "      <td>11983.162812</td>\n",
       "      <td>12103.062812</td>\n",
       "    </tr>\n",
       "    <tr>\n",
       "      <th>2015-05-01</th>\n",
       "      <td>0.177309</td>\n",
       "      <td>0.177309</td>\n",
       "      <td>12061.810713</td>\n",
       "      <td>12113.710713</td>\n",
       "    </tr>\n",
       "    <tr>\n",
       "      <th>2015-06-01</th>\n",
       "      <td>0.178957</td>\n",
       "      <td>0.178957</td>\n",
       "      <td>12140.637570</td>\n",
       "      <td>12124.537570</td>\n",
       "    </tr>\n",
       "    <tr>\n",
       "      <th>2015-07-01</th>\n",
       "      <td>0.179354</td>\n",
       "      <td>0.179354</td>\n",
       "      <td>12219.643782</td>\n",
       "      <td>12135.543782</td>\n",
       "    </tr>\n",
       "    <tr>\n",
       "      <th>2015-08-01</th>\n",
       "      <td>0.179449</td>\n",
       "      <td>0.179449</td>\n",
       "      <td>12298.829443</td>\n",
       "      <td>12146.729443</td>\n",
       "    </tr>\n",
       "    <tr>\n",
       "      <th>2015-09-01</th>\n",
       "      <td>0.179472</td>\n",
       "      <td>0.179472</td>\n",
       "      <td>12378.194576</td>\n",
       "      <td>12158.094576</td>\n",
       "    </tr>\n",
       "    <tr>\n",
       "      <th>2015-10-01</th>\n",
       "      <td>0.179478</td>\n",
       "      <td>0.179478</td>\n",
       "      <td>12457.739188</td>\n",
       "      <td>12169.639188</td>\n",
       "    </tr>\n",
       "    <tr>\n",
       "      <th>2015-11-01</th>\n",
       "      <td>0.179479</td>\n",
       "      <td>0.179479</td>\n",
       "      <td>12537.463278</td>\n",
       "      <td>12181.363278</td>\n",
       "    </tr>\n",
       "    <tr>\n",
       "      <th>2015-12-01</th>\n",
       "      <td>0.179480</td>\n",
       "      <td>0.179480</td>\n",
       "      <td>12617.366849</td>\n",
       "      <td>12193.266849</td>\n",
       "    </tr>\n",
       "  </tbody>\n",
       "</table>\n",
       "</div>"
      ],
      "text/plain": [
       "               money  spending  Money_forecast  Spending_forecast\n",
       "2015-01-01 -0.465976 -0.465976    11748.234024       12072.134024\n",
       "2015-02-01  0.024050  0.024050    11826.392097       12082.292097\n",
       "2015-03-01  0.142051  0.142051    11904.692221       12092.592221\n",
       "2015-04-01  0.170467  0.170467    11983.162812       12103.062812\n",
       "2015-05-01  0.177309  0.177309    12061.810713       12113.710713\n",
       "2015-06-01  0.178957  0.178957    12140.637570       12124.537570\n",
       "2015-07-01  0.179354  0.179354    12219.643782       12135.543782\n",
       "2015-08-01  0.179449  0.179449    12298.829443       12146.729443\n",
       "2015-09-01  0.179472  0.179472    12378.194576       12158.094576\n",
       "2015-10-01  0.179478  0.179478    12457.739188       12169.639188\n",
       "2015-11-01  0.179479  0.179479    12537.463278       12181.363278\n",
       "2015-12-01  0.179480  0.179480    12617.366849       12193.266849"
      ]
     },
     "execution_count": 75,
     "metadata": {},
     "output_type": "execute_result"
    }
   ],
   "source": [
    "df_forcasted3"
   ]
  },
  {
   "cell_type": "code",
   "execution_count": 76,
   "id": "6fb62e51",
   "metadata": {},
   "outputs": [
    {
     "data": {
      "text/plain": [
       "<AxesSubplot:xlabel='Date'>"
      ]
     },
     "execution_count": 76,
     "metadata": {},
     "output_type": "execute_result"
    },
    {
     "data": {
      "image/png": "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\n",
      "text/plain": [
       "<Figure size 864x504 with 1 Axes>"
      ]
     },
     "metadata": {
      "needs_background": "light"
     },
     "output_type": "display_data"
    }
   ],
   "source": [
    "df[\"Money\"].iloc[-12:].plot(figsize=(12,7),legend=True)\n",
    "df_forcasted3[\"Money_forecast\"].plot(legend=True)"
   ]
  },
  {
   "cell_type": "code",
   "execution_count": 77,
   "id": "16b9c4b9",
   "metadata": {},
   "outputs": [
    {
     "data": {
      "text/plain": [
       "<AxesSubplot:xlabel='Date'>"
      ]
     },
     "execution_count": 77,
     "metadata": {},
     "output_type": "execute_result"
    },
    {
     "data": {
      "image/png": "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\n",
      "text/plain": [
       "<Figure size 864x504 with 1 Axes>"
      ]
     },
     "metadata": {
      "needs_background": "light"
     },
     "output_type": "display_data"
    }
   ],
   "source": [
    "df[\"Spending\"].iloc[-12:].plot(figsize=(12,7),legend=True)\n",
    "df_forcasted3[\"Spending_forecast\"].plot(legend=True)"
   ]
  },
  {
   "cell_type": "code",
   "execution_count": 79,
   "id": "f7068389",
   "metadata": {},
   "outputs": [
    {
     "data": {
      "text/plain": [
       "178.61545307651434"
      ]
     },
     "execution_count": 79,
     "metadata": {},
     "output_type": "execute_result"
    }
   ],
   "source": [
    "rmse(df[\"Money\"].iloc[-12:],df_forcasted3[\"Money_forecast\"])"
   ]
  },
  {
   "cell_type": "code",
   "execution_count": 80,
   "id": "c93860ad",
   "metadata": {},
   "outputs": [
    {
     "data": {
      "text/plain": [
       "192.4514737850938"
      ]
     },
     "execution_count": 80,
     "metadata": {},
     "output_type": "execute_result"
    }
   ],
   "source": [
    "rmse(df[\"Spending\"].iloc[-12:],df_forcasted3[\"Spending_forecast\"])"
   ]
  },
  {
   "cell_type": "code",
   "execution_count": 90,
   "id": "c49b4ed6",
   "metadata": {},
   "outputs": [
    {
     "name": "stdout",
     "output_type": "stream",
     "text": [
      "VAR MODEL\n",
      "money-var-rmse:43.71049653558893\n",
      "spending-var-rmse:37.00117516940808\n",
      "-------------------------------------------------------------------------------------\n",
      "VARMA MODEL\n",
      "money-varma-rmse:30.547146542247194\n",
      "spending-varma-rmse:62.7374990186183\n",
      "-------------------------------------------------------------------------------------\n",
      "ARIMA MODEL\n",
      "money-arima-rmse:178.61545307651434\n",
      "spending-arima-rmse:192.4514737850938\n"
     ]
    }
   ],
   "source": [
    "#all rmse together:\n",
    "print(\"VAR MODEL\")\n",
    "print(f'money-var-rmse:{rmse(df[\"Money\"].iloc[-12:],df_forecast1[\"Money_forecast\"])}')\n",
    "print(f'spending-var-rmse:{rmse(df[\"Spending\"].iloc[-12:],df_forecast1[\"Spending_forecast\"])}')\n",
    "print(\"-------------------------------------------------------------------------------------\")\n",
    "print(\"VARMA MODEL\")\n",
    "print(f'money-varma-rmse:{rmse(df[\"Money\"].iloc[-12:],df_forecast2[\"Money_forecast\"])}')\n",
    "print(f'spending-varma-rmse:{rmse(df[\"Spending\"].iloc[-12:],df_forecast2[\"Spending_forecast\"])}')\n",
    "print(\"-------------------------------------------------------------------------------------\")\n",
    "print(\"ARIMA MODEL\")\n",
    "print(f'money-arima-rmse:{rmse(df[\"Money\"].iloc[-12:],df_forcasted3[\"Money_forecast\"])}')\n",
    "print(f'spending-arima-rmse:{rmse(df[\"Spending\"].iloc[-12:],df_forcasted3[\"Spending_forecast\"])}')"
   ]
  }
 ],
 "metadata": {
  "kernelspec": {
   "display_name": "Python 3 (ipykernel)",
   "language": "python",
   "name": "python3"
  },
  "language_info": {
   "codemirror_mode": {
    "name": "ipython",
    "version": 3
   },
   "file_extension": ".py",
   "mimetype": "text/x-python",
   "name": "python",
   "nbconvert_exporter": "python",
   "pygments_lexer": "ipython3",
   "version": "3.9.7"
  }
 },
 "nbformat": 4,
 "nbformat_minor": 5
}
